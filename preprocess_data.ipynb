{
 "cells": [
  {
   "cell_type": "code",
   "execution_count": 3,
   "metadata": {},
   "outputs": [],
   "source": [
    "import pandas as pd"
   ]
  },
  {
   "cell_type": "code",
   "execution_count": 52,
   "metadata": {},
   "outputs": [],
   "source": [
    "def preprocess(file1,file2,op=None):\n",
    "    f1 =  open(file1,\"r\",encoding=\"utf-8\")\n",
    "    f2 =  open(file2,\"r\",encoding=\"utf-8\")\n",
    "    df = pd.DataFrame(columns=[\"sa\",\"hi\"])\n",
    "    c = 0\n",
    "    for hi,sa in zip(f1.readlines(),f2.readlines()):\n",
    "        sa = sa.strip(\"\\n\")\n",
    "        hi = hi.strip(\"\\n\")\n",
    "        df.loc[c] = [f\"<hi2> {sa}\",f\"[start] {hi} [end]\"]\n",
    "        c += 1\n",
    "    return df\n"
   ]
  },
  {
   "cell_type": "code",
   "execution_count": 53,
   "metadata": {},
   "outputs": [
    {
     "data": {
      "text/html": [
       "<div>\n",
       "<style scoped>\n",
       "    .dataframe tbody tr th:only-of-type {\n",
       "        vertical-align: middle;\n",
       "    }\n",
       "\n",
       "    .dataframe tbody tr th {\n",
       "        vertical-align: top;\n",
       "    }\n",
       "\n",
       "    .dataframe thead th {\n",
       "        text-align: right;\n",
       "    }\n",
       "</style>\n",
       "<table border=\"1\" class=\"dataframe\">\n",
       "  <thead>\n",
       "    <tr style=\"text-align: right;\">\n",
       "      <th></th>\n",
       "      <th>sa</th>\n",
       "      <th>hi</th>\n",
       "    </tr>\n",
       "  </thead>\n",
       "  <tbody>\n",
       "    <tr>\n",
       "      <th>0</th>\n",
       "      <td>&lt;hi2&gt; उद वाचमीरयति हिन्वते मती पुरुष्टुतस्य कत...</td>\n",
       "      <td>[start] उन्होंने अपनी आवाज़ और अपने कई प्यारे ...</td>\n",
       "    </tr>\n",
       "    <tr>\n",
       "      <th>1</th>\n",
       "      <td>&lt;hi2&gt; तव देव प्रसादाच्च भ्रातुश्च जयतां वर। कृ...</td>\n",
       "      <td>[start] 'हे विजयी स्वामी वह जो आपकी सहायता से ...</td>\n",
       "    </tr>\n",
       "    <tr>\n",
       "      <th>2</th>\n",
       "      <td>&lt;hi2&gt; ये नाकस्याधि रोचने दिवि देवास आसते|</td>\n",
       "      <td>[start] जो आकाश के ऊपर स्वर्ग में देवताओं के र...</td>\n",
       "    </tr>\n",
       "    <tr>\n",
       "      <th>3</th>\n",
       "      <td>&lt;hi2&gt; यथैव धेनु स्स्रवति स्नेहाद्वत्सस्य वत्सल...</td>\n",
       "      <td>[start] “जिस प्रकार अपने बछड़े की गाय पालने वा...</td>\n",
       "    </tr>\n",
       "    <tr>\n",
       "      <th>4</th>\n",
       "      <td>&lt;hi2&gt; क्षिप्रं भवति धर्मात्मा शश्वच्छान्तिं नि...</td>\n",
       "      <td>[start]  जल्दी से वह धर्मी (दिमाग वाला) हो जात...</td>\n",
       "    </tr>\n",
       "  </tbody>\n",
       "</table>\n",
       "</div>"
      ],
      "text/plain": [
       "                                                  sa  \\\n",
       "0  <hi2> उद वाचमीरयति हिन्वते मती पुरुष्टुतस्य कत...   \n",
       "1  <hi2> तव देव प्रसादाच्च भ्रातुश्च जयतां वर। कृ...   \n",
       "2          <hi2> ये नाकस्याधि रोचने दिवि देवास आसते|   \n",
       "3  <hi2> यथैव धेनु स्स्रवति स्नेहाद्वत्सस्य वत्सल...   \n",
       "4  <hi2> क्षिप्रं भवति धर्मात्मा शश्वच्छान्तिं नि...   \n",
       "\n",
       "                                                  hi  \n",
       "0  [start] उन्होंने अपनी आवाज़ और अपने कई प्यारे ...  \n",
       "1  [start] 'हे विजयी स्वामी वह जो आपकी सहायता से ...  \n",
       "2  [start] जो आकाश के ऊपर स्वर्ग में देवताओं के र...  \n",
       "3  [start] “जिस प्रकार अपने बछड़े की गाय पालने वा...  \n",
       "4  [start]  जल्दी से वह धर्मी (दिमाग वाला) हो जात...  "
      ]
     },
     "execution_count": 53,
     "metadata": {},
     "output_type": "execute_result"
    }
   ],
   "source": [
    "df = preprocess(\"./data/test_hindi.hi\",\"./data/test_sanskrit.sa\")\n",
    "df.head()"
   ]
  },
  {
   "cell_type": "code",
   "execution_count": 56,
   "metadata": {},
   "outputs": [
    {
     "name": "stderr",
     "output_type": "stream",
     "text": [
      "/tmp/ipykernel_2871/2900375399.py:1: FutureWarning: Series.__getitem__ treating keys as positions is deprecated. In a future version, integer keys will always be treated as labels (consistent with DataFrame behavior). To access a value by position, use `ser.iloc[pos]`\n",
      "  df.iloc[0][0]\n"
     ]
    },
    {
     "data": {
      "text/plain": [
       "'<hi2> उद वाचमीरयति हिन्वते मती पुरुष्टुतस्य कति चित्परिप्रियः|'"
      ]
     },
     "execution_count": 56,
     "metadata": {},
     "output_type": "execute_result"
    }
   ],
   "source": [
    "df.iloc[0][0]"
   ]
  },
  {
   "cell_type": "code",
   "execution_count": 76,
   "metadata": {},
   "outputs": [
    {
     "data": {
      "text/html": [
       "<div>\n",
       "<style scoped>\n",
       "    .dataframe tbody tr th:only-of-type {\n",
       "        vertical-align: middle;\n",
       "    }\n",
       "\n",
       "    .dataframe tbody tr th {\n",
       "        vertical-align: top;\n",
       "    }\n",
       "\n",
       "    .dataframe thead th {\n",
       "        text-align: right;\n",
       "    }\n",
       "</style>\n",
       "<table border=\"1\" class=\"dataframe\">\n",
       "  <thead>\n",
       "    <tr style=\"text-align: right;\">\n",
       "      <th></th>\n",
       "      <th>sa</th>\n",
       "      <th>hi</th>\n",
       "    </tr>\n",
       "  </thead>\n",
       "  <tbody>\n",
       "    <tr>\n",
       "      <th>1369</th>\n",
       "      <td>&lt;hi2&gt; तिग्मायुधः कषिप्रधन्वा समत्स्वषाळ्हः साह...</td>\n",
       "      <td>[start] तेज धनुष के साथ धारदार हथियार के साथ क...</td>\n",
       "    </tr>\n",
       "    <tr>\n",
       "      <th>1370</th>\n",
       "      <td>&lt;hi2&gt; तेभ्यः स्वाधीनतां प्रतिज्ञाय स्वयं विनाश...</td>\n",
       "      <td>[start] जबकि वे उन्हें स्वतंत्रता का वादा करते...</td>\n",
       "    </tr>\n",
       "    <tr>\n",
       "      <th>1371</th>\n",
       "      <td>&lt;hi2&gt; पवस्व गोजिदश्वजिद विश्वजित सोम रण्यजित|\\n</td>\n",
       "      <td>[start] आगे की ओर बहने वाले परिजन और स्टीड जीत...</td>\n",
       "    </tr>\n",
       "    <tr>\n",
       "      <th>1372</th>\n",
       "      <td>&lt;hi2&gt; अराणां न चरमस्तदेषां दाना मह्ना तदेषाम|\\n</td>\n",
       "      <td>[start] इन तेज गर्जनाओं में से कोई भी अंतिम नह...</td>\n",
       "    </tr>\n",
       "    <tr>\n",
       "      <th>1373</th>\n",
       "      <td>&lt;hi2&gt; ततः परं स पर्व्वतमारुह्येश्वरमुद्दिश्य प...</td>\n",
       "      <td>[start] और यह उन दिनों में पारित करने के लिए आ...</td>\n",
       "    </tr>\n",
       "  </tbody>\n",
       "</table>\n",
       "</div>"
      ],
      "text/plain": [
       "                                                     sa  \\\n",
       "1369  <hi2> तिग्मायुधः कषिप्रधन्वा समत्स्वषाळ्हः साह...   \n",
       "1370  <hi2> तेभ्यः स्वाधीनतां प्रतिज्ञाय स्वयं विनाश...   \n",
       "1371    <hi2> पवस्व गोजिदश्वजिद विश्वजित सोम रण्यजित|\\n   \n",
       "1372    <hi2> अराणां न चरमस्तदेषां दाना मह्ना तदेषाम|\\n   \n",
       "1373  <hi2> ततः परं स पर्व्वतमारुह्येश्वरमुद्दिश्य प...   \n",
       "\n",
       "                                                     hi  \n",
       "1369  [start] तेज धनुष के साथ धारदार हथियार के साथ क...  \n",
       "1370  [start] जबकि वे उन्हें स्वतंत्रता का वादा करते...  \n",
       "1371  [start] आगे की ओर बहने वाले परिजन और स्टीड जीत...  \n",
       "1372  [start] इन तेज गर्जनाओं में से कोई भी अंतिम नह...  \n",
       "1373  [start] और यह उन दिनों में पारित करने के लिए आ...  "
      ]
     },
     "execution_count": 76,
     "metadata": {},
     "output_type": "execute_result"
    }
   ],
   "source": [
    "df.tail()"
   ]
  },
  {
   "cell_type": "code",
   "execution_count": 57,
   "metadata": {},
   "outputs": [],
   "source": [
    "df1 = preprocess(\"./data/hindi_parallel_aligned.hi\",\"./data/sanskrit_parallel_aligned.sa\")"
   ]
  },
  {
   "cell_type": "code",
   "execution_count": 58,
   "metadata": {},
   "outputs": [
    {
     "data": {
      "text/html": [
       "<div>\n",
       "<style scoped>\n",
       "    .dataframe tbody tr th:only-of-type {\n",
       "        vertical-align: middle;\n",
       "    }\n",
       "\n",
       "    .dataframe tbody tr th {\n",
       "        vertical-align: top;\n",
       "    }\n",
       "\n",
       "    .dataframe thead th {\n",
       "        text-align: right;\n",
       "    }\n",
       "</style>\n",
       "<table border=\"1\" class=\"dataframe\">\n",
       "  <thead>\n",
       "    <tr style=\"text-align: right;\">\n",
       "      <th></th>\n",
       "      <th>sa</th>\n",
       "      <th>hi</th>\n",
       "    </tr>\n",
       "  </thead>\n",
       "  <tbody>\n",
       "    <tr>\n",
       "      <th>0</th>\n",
       "      <td>&lt;hi2&gt; वर्णानामर्थसंघानां रसानां छन्दसामपि। मंग...</td>\n",
       "      <td>[start] अक्षरों, अर्थ समूहों, रसों, छन्दों और ...</td>\n",
       "    </tr>\n",
       "    <tr>\n",
       "      <th>1</th>\n",
       "      <td>&lt;hi2&gt; भवानीशंकरौ वन्दे श्रद्धाविश्वासरूपिणौ। य...</td>\n",
       "      <td>[start] श्रद्धा और विश्वास के स्वरूप श्री पार्...</td>\n",
       "    </tr>\n",
       "    <tr>\n",
       "      <th>2</th>\n",
       "      <td>&lt;hi2&gt; वन्दे बोधमयं नित्यं गुरुं शंकररूपिणम्‌। ...</td>\n",
       "      <td>[start] ज्ञानमय, नित्य, शंकर रूपी गुरु की मैं ...</td>\n",
       "    </tr>\n",
       "    <tr>\n",
       "      <th>3</th>\n",
       "      <td>&lt;hi2&gt; सीतारामगुणग्रामपुण्यारण्यविहारिणौ। वन्दे...</td>\n",
       "      <td>[start] श्री सीतारामजी के गुणसमूह रूपी पवित्र ...</td>\n",
       "    </tr>\n",
       "    <tr>\n",
       "      <th>4</th>\n",
       "      <td>&lt;hi2&gt; उद्भवस्थितिसंहारकारिणीं क्लेशहारिणीम्‌। ...</td>\n",
       "      <td>[start] उत्पत्ति, स्थिति  और संहार करने वाली, ...</td>\n",
       "    </tr>\n",
       "  </tbody>\n",
       "</table>\n",
       "</div>"
      ],
      "text/plain": [
       "                                                  sa  \\\n",
       "0  <hi2> वर्णानामर्थसंघानां रसानां छन्दसामपि। मंग...   \n",
       "1  <hi2> भवानीशंकरौ वन्दे श्रद्धाविश्वासरूपिणौ। य...   \n",
       "2  <hi2> वन्दे बोधमयं नित्यं गुरुं शंकररूपिणम्‌। ...   \n",
       "3  <hi2> सीतारामगुणग्रामपुण्यारण्यविहारिणौ। वन्दे...   \n",
       "4  <hi2> उद्भवस्थितिसंहारकारिणीं क्लेशहारिणीम्‌। ...   \n",
       "\n",
       "                                                  hi  \n",
       "0  [start] अक्षरों, अर्थ समूहों, रसों, छन्दों और ...  \n",
       "1  [start] श्रद्धा और विश्वास के स्वरूप श्री पार्...  \n",
       "2  [start] ज्ञानमय, नित्य, शंकर रूपी गुरु की मैं ...  \n",
       "3  [start] श्री सीतारामजी के गुणसमूह रूपी पवित्र ...  \n",
       "4  [start] उत्पत्ति, स्थिति  और संहार करने वाली, ...  "
      ]
     },
     "execution_count": 58,
     "metadata": {},
     "output_type": "execute_result"
    }
   ],
   "source": [
    "df1.head()"
   ]
  },
  {
   "cell_type": "code",
   "execution_count": 61,
   "metadata": {},
   "outputs": [
    {
     "data": {
      "text/plain": [
       "'<hi2> वर्णानामर्थसंघानां रसानां छन्दसामपि। मंगलानां च कर्त्तारौ वन्दे वाणीविनायकौ॥1॥'"
      ]
     },
     "execution_count": 61,
     "metadata": {},
     "output_type": "execute_result"
    }
   ],
   "source": [
    "df1.iloc[0,0]"
   ]
  },
  {
   "cell_type": "code",
   "execution_count": 117,
   "metadata": {},
   "outputs": [
    {
     "data": {
      "text/html": [
       "<div>\n",
       "<style scoped>\n",
       "    .dataframe tbody tr th:only-of-type {\n",
       "        vertical-align: middle;\n",
       "    }\n",
       "\n",
       "    .dataframe tbody tr th {\n",
       "        vertical-align: top;\n",
       "    }\n",
       "\n",
       "    .dataframe thead th {\n",
       "        text-align: right;\n",
       "    }\n",
       "</style>\n",
       "<table border=\"1\" class=\"dataframe\">\n",
       "  <thead>\n",
       "    <tr style=\"text-align: right;\">\n",
       "      <th></th>\n",
       "      <th>sa</th>\n",
       "      <th>hi</th>\n",
       "    </tr>\n",
       "  </thead>\n",
       "  <tbody>\n",
       "    <tr>\n",
       "      <th>5957</th>\n",
       "      <td>&lt;hi2&gt; सुंदर सुजान कृपा निधान अनाथ पर कर प्रीति...</td>\n",
       "      <td>[start] सुंदर, सुजान और कृपानिधान तथा जो अनाथो...</td>\n",
       "    </tr>\n",
       "    <tr>\n",
       "      <th>5958</th>\n",
       "      <td>&lt;hi2&gt; मो सम दीन न दीन हित तुम्ह समान रघुबीर। अ...</td>\n",
       "      <td>[start] हे श्री रघुवीर! मेरे समान कोई दीन नहीं...</td>\n",
       "    </tr>\n",
       "    <tr>\n",
       "      <th>5959</th>\n",
       "      <td>&lt;hi2&gt; कामिहि नारि पिआरि जिमि लोभिहि प्रिय जिमि...</td>\n",
       "      <td>[start] जैसे कामी को स्त्री प्रिय लगती है और ल...</td>\n",
       "    </tr>\n",
       "    <tr>\n",
       "      <th>5960</th>\n",
       "      <td>&lt;hi2&gt; यत्पूर्वं प्रभुणा कृतं सुकविना श्रीशम्भु...</td>\n",
       "      <td>[start] श्रेष्ठ कवि भगवान्‌ श्री शंकरजी ने पहल...</td>\n",
       "    </tr>\n",
       "    <tr>\n",
       "      <th>5961</th>\n",
       "      <td>&lt;hi2&gt; पुण्यं पापहरं सदा शिवकरं विज्ञानभक्तिप्र...</td>\n",
       "      <td>[start] यह श्री रामचरित मानस पुण्य रूप, पापों ...</td>\n",
       "    </tr>\n",
       "  </tbody>\n",
       "</table>\n",
       "</div>"
      ],
      "text/plain": [
       "                                                     sa  \\\n",
       "5957  <hi2> सुंदर सुजान कृपा निधान अनाथ पर कर प्रीति...   \n",
       "5958  <hi2> मो सम दीन न दीन हित तुम्ह समान रघुबीर। अ...   \n",
       "5959  <hi2> कामिहि नारि पिआरि जिमि लोभिहि प्रिय जिमि...   \n",
       "5960  <hi2> यत्पूर्वं प्रभुणा कृतं सुकविना श्रीशम्भु...   \n",
       "5961  <hi2> पुण्यं पापहरं सदा शिवकरं विज्ञानभक्तिप्र...   \n",
       "\n",
       "                                                     hi  \n",
       "5957  [start] सुंदर, सुजान और कृपानिधान तथा जो अनाथो...  \n",
       "5958  [start] हे श्री रघुवीर! मेरे समान कोई दीन नहीं...  \n",
       "5959  [start] जैसे कामी को स्त्री प्रिय लगती है और ल...  \n",
       "5960  [start] श्रेष्ठ कवि भगवान्‌ श्री शंकरजी ने पहल...  \n",
       "5961  [start] यह श्री रामचरित मानस पुण्य रूप, पापों ...  "
      ]
     },
     "execution_count": 117,
     "metadata": {},
     "output_type": "execute_result"
    }
   ],
   "source": [
    "df1.tail()"
   ]
  },
  {
   "cell_type": "code",
   "execution_count": 118,
   "metadata": {},
   "outputs": [
    {
     "data": {
      "text/plain": [
       "644226"
      ]
     },
     "execution_count": 118,
     "metadata": {},
     "output_type": "execute_result"
    }
   ],
   "source": [
    "file = open(\"./data/sankrit.txt\", \"w\")\n",
    "\n",
    "file.write(\"\\n\".join(df1[\"sa\"]))"
   ]
  },
  {
   "cell_type": "code",
   "execution_count": 62,
   "metadata": {},
   "outputs": [],
   "source": [
    "df = pd.concat([df,df1],axis=0,ignore_index=True)"
   ]
  },
  {
   "cell_type": "code",
   "execution_count": 63,
   "metadata": {},
   "outputs": [
    {
     "data": {
      "text/plain": [
       "7336"
      ]
     },
     "execution_count": 63,
     "metadata": {},
     "output_type": "execute_result"
    }
   ],
   "source": [
    "len(df)"
   ]
  },
  {
   "cell_type": "code",
   "execution_count": 97,
   "metadata": {},
   "outputs": [
    {
     "data": {
      "text/html": [
       "<div>\n",
       "<style scoped>\n",
       "    .dataframe tbody tr th:only-of-type {\n",
       "        vertical-align: middle;\n",
       "    }\n",
       "\n",
       "    .dataframe tbody tr th {\n",
       "        vertical-align: top;\n",
       "    }\n",
       "\n",
       "    .dataframe thead th {\n",
       "        text-align: right;\n",
       "    }\n",
       "</style>\n",
       "<table border=\"1\" class=\"dataframe\">\n",
       "  <thead>\n",
       "    <tr style=\"text-align: right;\">\n",
       "      <th></th>\n",
       "      <th>sa</th>\n",
       "      <th>hi</th>\n",
       "    </tr>\n",
       "  </thead>\n",
       "  <tbody>\n",
       "    <tr>\n",
       "      <th>0</th>\n",
       "      <td>&lt;hi2&gt; उद वाचमीरयति हिन्वते मती पुरुष्टुतस्य कत...</td>\n",
       "      <td>[start] उन्होंने अपनी आवाज़ और अपने कई प्यारे ...</td>\n",
       "    </tr>\n",
       "    <tr>\n",
       "      <th>1</th>\n",
       "      <td>&lt;hi2&gt; तव देव प्रसादाच्च भ्रातुश्च जयतां वर। कृ...</td>\n",
       "      <td>[start] 'हे विजयी स्वामी वह जो आपकी सहायता से ...</td>\n",
       "    </tr>\n",
       "    <tr>\n",
       "      <th>2</th>\n",
       "      <td>&lt;hi2&gt; ये नाकस्याधि रोचने दिवि देवास आसते|</td>\n",
       "      <td>[start] जो आकाश के ऊपर स्वर्ग में देवताओं के र...</td>\n",
       "    </tr>\n",
       "    <tr>\n",
       "      <th>3</th>\n",
       "      <td>&lt;hi2&gt; यथैव धेनु स्स्रवति स्नेहाद्वत्सस्य वत्सल...</td>\n",
       "      <td>[start] “जिस प्रकार अपने बछड़े की गाय पालने वा...</td>\n",
       "    </tr>\n",
       "    <tr>\n",
       "      <th>4</th>\n",
       "      <td>&lt;hi2&gt; क्षिप्रं भवति धर्मात्मा शश्वच्छान्तिं नि...</td>\n",
       "      <td>[start]  जल्दी से वह धर्मी (दिमाग वाला) हो जात...</td>\n",
       "    </tr>\n",
       "  </tbody>\n",
       "</table>\n",
       "</div>"
      ],
      "text/plain": [
       "                                                  sa  \\\n",
       "0  <hi2> उद वाचमीरयति हिन्वते मती पुरुष्टुतस्य कत...   \n",
       "1  <hi2> तव देव प्रसादाच्च भ्रातुश्च जयतां वर। कृ...   \n",
       "2          <hi2> ये नाकस्याधि रोचने दिवि देवास आसते|   \n",
       "3  <hi2> यथैव धेनु स्स्रवति स्नेहाद्वत्सस्य वत्सल...   \n",
       "4  <hi2> क्षिप्रं भवति धर्मात्मा शश्वच्छान्तिं नि...   \n",
       "\n",
       "                                                  hi  \n",
       "0  [start] उन्होंने अपनी आवाज़ और अपने कई प्यारे ...  \n",
       "1  [start] 'हे विजयी स्वामी वह जो आपकी सहायता से ...  \n",
       "2  [start] जो आकाश के ऊपर स्वर्ग में देवताओं के र...  \n",
       "3  [start] “जिस प्रकार अपने बछड़े की गाय पालने वा...  \n",
       "4  [start]  जल्दी से वह धर्मी (दिमाग वाला) हो जात...  "
      ]
     },
     "execution_count": 97,
     "metadata": {},
     "output_type": "execute_result"
    }
   ],
   "source": [
    "df.head()"
   ]
  },
  {
   "cell_type": "code",
   "execution_count": 64,
   "metadata": {},
   "outputs": [],
   "source": [
    "df.to_pickle(\"./data/sa_to_hi.pkl\")"
   ]
  },
  {
   "cell_type": "code",
   "execution_count": 131,
   "metadata": {},
   "outputs": [
    {
     "data": {
      "text/plain": [
       "1273865"
      ]
     },
     "execution_count": 131,
     "metadata": {},
     "output_type": "execute_result"
    }
   ],
   "source": [
    "file = open(\"./data/hindi.txt\",\"w\")\n",
    "\n",
    "file.write(\"\\n\".join(df[\"hi\"]))"
   ]
  },
  {
   "cell_type": "code",
   "execution_count": 101,
   "metadata": {},
   "outputs": [
    {
     "name": "stdout",
     "output_type": "stream",
     "text": [
      "['कर्मण्येवाधिकारस्ते', 'मा', 'फलेषु', 'कदाचन', '।']\n"
     ]
    }
   ],
   "source": [
    "from indicnlp.tokenize import indic_tokenize\n",
    "\n",
    "text = \"कर्मण्येवाधिकारस्ते मा फलेषु कदाचन।\"\n",
    "\n",
    "tokens = indic_tokenize.trivial_tokenize(\n",
    "    text, lang=\"hi\"\n",
    ")  # Sanskrit is close to Hindi tokenization\n",
    "print(tokens)"
   ]
  },
  {
   "cell_type": "code",
   "execution_count": 2,
   "metadata": {},
   "outputs": [],
   "source": [
    "import pandas as pd\n"
   ]
  },
  {
   "cell_type": "code",
   "execution_count": 5,
   "metadata": {},
   "outputs": [],
   "source": [
    "df = pd.read_excel(\"./all_data.xlsx\")"
   ]
  },
  {
   "cell_type": "code",
   "execution_count": 6,
   "metadata": {},
   "outputs": [
    {
     "data": {
      "text/html": [
       "<div>\n",
       "<style scoped>\n",
       "    .dataframe tbody tr th:only-of-type {\n",
       "        vertical-align: middle;\n",
       "    }\n",
       "\n",
       "    .dataframe tbody tr th {\n",
       "        vertical-align: top;\n",
       "    }\n",
       "\n",
       "    .dataframe thead th {\n",
       "        text-align: right;\n",
       "    }\n",
       "</style>\n",
       "<table border=\"1\" class=\"dataframe\">\n",
       "  <thead>\n",
       "    <tr style=\"text-align: right;\">\n",
       "      <th></th>\n",
       "      <th>sans_sent</th>\n",
       "      <th>kon_sent</th>\n",
       "    </tr>\n",
       "  </thead>\n",
       "  <tbody>\n",
       "    <tr>\n",
       "      <th>0</th>\n",
       "      <td>अहं प्रतिदिनं प्रभाते जागामि।</td>\n",
       "      <td>हांव रोज सकाळीं उठतां।</td>\n",
       "    </tr>\n",
       "    <tr>\n",
       "      <th>1</th>\n",
       "      <td>मम गृहं नदीतीरे अस्ति।</td>\n",
       "      <td>म्हजें घर न्हंयकडेल्या आहे।</td>\n",
       "    </tr>\n",
       "    <tr>\n",
       "      <th>2</th>\n",
       "      <td>सूर्यः पूर्वस्यां दिशि उदति।</td>\n",
       "      <td>सूर्य पूवरे कडेन उगता।</td>\n",
       "    </tr>\n",
       "    <tr>\n",
       "      <th>3</th>\n",
       "      <td>वयं संनादति क्षेत्रे क्रीडामः।</td>\n",
       "      <td>आम्ही एकठांय शेतांत खेळतांव।</td>\n",
       "    </tr>\n",
       "    <tr>\n",
       "      <th>4</th>\n",
       "      <td>माता भोजनं पचति।</td>\n",
       "      <td>आजी जेवण तयार करता।</td>\n",
       "    </tr>\n",
       "  </tbody>\n",
       "</table>\n",
       "</div>"
      ],
      "text/plain": [
       "                             sans_sent                               kon_sent\n",
       "0   अहं प्रतिदिनं प्रभाते जागामि।        हांव रोज सकाळीं उठतां।              \n",
       "1   मम गृहं नदीतीरे अस्ति।               म्हजें घर न्हंयकडेल्या आहे।         \n",
       "2   सूर्यः पूर्वस्यां दिशि उदति।          सूर्य पूवरे कडेन उगता।             \n",
       "3    वयं संनादति क्षेत्रे क्रीडामः।      आम्ही एकठांय शेतांत खेळतांव।        \n",
       "4    माता भोजनं पचति।                      आजी जेवण तयार करता।               "
      ]
     },
     "execution_count": 6,
     "metadata": {},
     "output_type": "execute_result"
    }
   ],
   "source": [
    "df.head()"
   ]
  },
  {
   "cell_type": "code",
   "execution_count": 7,
   "metadata": {},
   "outputs": [],
   "source": [
    "def add_token(x):\n",
    "    return \"<kn> \"+x\n",
    "\n",
    "def add_start_end(x):\n",
    "    return f\"[start] {x} [end]\""
   ]
  },
  {
   "cell_type": "code",
   "execution_count": 8,
   "metadata": {},
   "outputs": [],
   "source": [
    "df[\"sans_sent\"] = df[\"sans_sent\"].apply(add_token)\n",
    "df[\"kon_sent\"] = df[\"kon_sent\"].apply(add_start_end)"
   ]
  },
  {
   "cell_type": "code",
   "execution_count": 9,
   "metadata": {},
   "outputs": [
    {
     "data": {
      "text/html": [
       "<div>\n",
       "<style scoped>\n",
       "    .dataframe tbody tr th:only-of-type {\n",
       "        vertical-align: middle;\n",
       "    }\n",
       "\n",
       "    .dataframe tbody tr th {\n",
       "        vertical-align: top;\n",
       "    }\n",
       "\n",
       "    .dataframe thead th {\n",
       "        text-align: right;\n",
       "    }\n",
       "</style>\n",
       "<table border=\"1\" class=\"dataframe\">\n",
       "  <thead>\n",
       "    <tr style=\"text-align: right;\">\n",
       "      <th></th>\n",
       "      <th>sans_sent</th>\n",
       "      <th>kon_sent</th>\n",
       "    </tr>\n",
       "  </thead>\n",
       "  <tbody>\n",
       "    <tr>\n",
       "      <th>0</th>\n",
       "      <td>&lt;kn&gt;  अहं प्रतिदिनं प्रभाते जागामि।</td>\n",
       "      <td>[start]  हांव रोज सकाळीं उठतां।               ...</td>\n",
       "    </tr>\n",
       "    <tr>\n",
       "      <th>1</th>\n",
       "      <td>&lt;kn&gt;  मम गृहं नदीतीरे अस्ति।</td>\n",
       "      <td>[start]  म्हजें घर न्हंयकडेल्या आहे।          ...</td>\n",
       "    </tr>\n",
       "    <tr>\n",
       "      <th>2</th>\n",
       "      <td>&lt;kn&gt;  सूर्यः पूर्वस्यां दिशि उदति।</td>\n",
       "      <td>[start]  सूर्य पूवरे कडेन उगता।              [...</td>\n",
       "    </tr>\n",
       "    <tr>\n",
       "      <th>3</th>\n",
       "      <td>&lt;kn&gt;  वयं संनादति क्षेत्रे क्रीडामः।</td>\n",
       "      <td>[start]  आम्ही एकठांय शेतांत खेळतांव।         ...</td>\n",
       "    </tr>\n",
       "    <tr>\n",
       "      <th>4</th>\n",
       "      <td>&lt;kn&gt;  माता भोजनं पचति।</td>\n",
       "      <td>[start]  आजी जेवण तयार करता।                [end]</td>\n",
       "    </tr>\n",
       "  </tbody>\n",
       "</table>\n",
       "</div>"
      ],
      "text/plain": [
       "                                  sans_sent  \\\n",
       "0  <kn>  अहं प्रतिदिनं प्रभाते जागामि।        \n",
       "1  <kn>  मम गृहं नदीतीरे अस्ति।               \n",
       "2  <kn>  सूर्यः पूर्वस्यां दिशि उदति।         \n",
       "3   <kn>  वयं संनादति क्षेत्रे क्रीडामः।      \n",
       "4   <kn>  माता भोजनं पचति।                    \n",
       "\n",
       "                                            kon_sent  \n",
       "0  [start]  हांव रोज सकाळीं उठतां।               ...  \n",
       "1  [start]  म्हजें घर न्हंयकडेल्या आहे।          ...  \n",
       "2  [start]  सूर्य पूवरे कडेन उगता।              [...  \n",
       "3  [start]  आम्ही एकठांय शेतांत खेळतांव।         ...  \n",
       "4  [start]  आजी जेवण तयार करता।                [end]  "
      ]
     },
     "execution_count": 9,
     "metadata": {},
     "output_type": "execute_result"
    }
   ],
   "source": [
    "df.head()"
   ]
  },
  {
   "cell_type": "code",
   "execution_count": 10,
   "metadata": {},
   "outputs": [],
   "source": [
    "special_tokens = [\"[start]\", \"[end]\", \"[PAD]\", \"[UNK]\",\"<kn2>\"]"
   ]
  },
  {
   "cell_type": "code",
   "execution_count": 11,
   "metadata": {},
   "outputs": [
    {
     "data": {
      "text/plain": [
       "75147"
      ]
     },
     "execution_count": 11,
     "metadata": {},
     "output_type": "execute_result"
    }
   ],
   "source": [
    "file = open(\"./data/sankrit_2.txt\", \"w\")\n",
    "\n",
    "file.write(\"\\n\".join(df[\"sans_sent\"]))"
   ]
  },
  {
   "cell_type": "code",
   "execution_count": 12,
   "metadata": {},
   "outputs": [
    {
     "data": {
      "text/plain": [
       "89611"
      ]
     },
     "execution_count": 12,
     "metadata": {},
     "output_type": "execute_result"
    }
   ],
   "source": [
    "file = open(\"./data/kon.txt\", \"w\")\n",
    "\n",
    "file.write(\"\\n\".join(df[\"kon_sent\"]))"
   ]
  },
  {
   "cell_type": "code",
   "execution_count": 18,
   "metadata": {},
   "outputs": [],
   "source": [
    "df.to_pickle(\"all_data.pkl\")"
   ]
  },
  {
   "cell_type": "code",
   "execution_count": 14,
   "metadata": {},
   "outputs": [
    {
     "name": "stderr",
     "output_type": "stream",
     "text": [
      "sentencepiece_trainer.cc(78) LOG(INFO) Starts training with : \n",
      "trainer_spec {\n",
      "  input: ./data/sankrit_2.txt\n",
      "  input_format: \n",
      "  model_prefix: ./model/sanskrit_tokenizer_2\n",
      "  model_type: BPE\n",
      "  vocab_size: 4678\n",
      "  self_test_sample_size: 0\n",
      "  character_coverage: 1\n",
      "  input_sentence_size: 0\n",
      "  shuffle_input_sentence: 1\n",
      "  seed_sentencepiece_size: 1000000\n",
      "  shrinking_factor: 0.75\n",
      "  max_sentence_length: 4192\n",
      "  num_threads: 16\n",
      "  num_sub_iterations: 2\n",
      "  max_sentencepiece_length: 16\n",
      "  split_by_unicode_script: 1\n",
      "  split_by_number: 1\n",
      "  split_by_whitespace: 1\n",
      "  split_digits: 0\n",
      "  pretokenization_delimiter: \n",
      "  treat_whitespace_as_suffix: 0\n",
      "  allow_whitespace_only_pieces: 0\n",
      "  user_defined_symbols: [start]\n",
      "  user_defined_symbols: [end]\n",
      "  user_defined_symbols: [PAD]\n",
      "  user_defined_symbols: [UNK]\n",
      "  user_defined_symbols: <kn2>\n",
      "  required_chars: \n",
      "  byte_fallback: 0\n",
      "  vocabulary_output_piece_score: 1\n",
      "  train_extremely_large_corpus: 0\n",
      "  seed_sentencepieces_file: \n",
      "  hard_vocab_limit: 1\n",
      "  use_all_vocab: 0\n",
      "  unk_id: 0\n",
      "  bos_id: 1\n",
      "  eos_id: 2\n",
      "  pad_id: -1\n",
      "  unk_piece: <unk>\n",
      "  bos_piece: <s>\n",
      "  eos_piece: </s>\n",
      "  pad_piece: <pad>\n",
      "  unk_surface:  ⁇ \n",
      "  enable_differential_privacy: 0\n",
      "  differential_privacy_noise_level: 0\n",
      "  differential_privacy_clipping_threshold: 0\n",
      "}\n",
      "normalizer_spec {\n",
      "  name: nmt_nfkc\n",
      "  add_dummy_prefix: 1\n",
      "  remove_extra_whitespaces: 1\n",
      "  escape_whitespaces: 1\n",
      "  normalization_rule_tsv: \n",
      "}\n",
      "denormalizer_spec {}\n",
      "trainer_interface.cc(353) LOG(INFO) SentenceIterator is not specified. Using MultiFileSentenceIterator.\n",
      "trainer_interface.cc(185) LOG(INFO) Loading corpus: ./data/sankrit_2.txt\n",
      "trainer_interface.cc(409) LOG(INFO) Loaded all 1835 sentences\n",
      "trainer_interface.cc(425) LOG(INFO) Adding meta_piece: <unk>\n",
      "trainer_interface.cc(425) LOG(INFO) Adding meta_piece: <s>\n",
      "trainer_interface.cc(425) LOG(INFO) Adding meta_piece: </s>\n",
      "trainer_interface.cc(425) LOG(INFO) Adding meta_piece: [start]\n",
      "trainer_interface.cc(425) LOG(INFO) Adding meta_piece: [end]\n",
      "trainer_interface.cc(425) LOG(INFO) Adding meta_piece: [PAD]\n",
      "trainer_interface.cc(425) LOG(INFO) Adding meta_piece: [UNK]\n",
      "trainer_interface.cc(425) LOG(INFO) Adding meta_piece: <kn2>\n",
      "trainer_interface.cc(430) LOG(INFO) Normalizing sentences...\n",
      "trainer_interface.cc(539) LOG(INFO) all chars count=60525\n",
      "trainer_interface.cc(560) LOG(INFO) Alphabet size=63\n",
      "trainer_interface.cc(561) LOG(INFO) Final character coverage=1\n",
      "trainer_interface.cc(592) LOG(INFO) Done! preprocessed 1835 sentences.\n",
      "trainer_interface.cc(598) LOG(INFO) Tokenizing input sentences with whitespace: 1835\n",
      "trainer_interface.cc(609) LOG(INFO) Done! 847\n",
      "bpe_model_trainer.cc(159) LOG(INFO) Updating active symbols. max_freq=1835 min_freq=1\n",
      "bpe_model_trainer.cc(268) LOG(INFO) Added: freq=424 size=20 all=1033 active=970 piece=ामि\n",
      "bpe_model_trainer.cc(268) LOG(INFO) Added: freq=225 size=40 all=1253 active=1190 piece=▁मित्र\n",
      "bpe_model_trainer.cc(268) LOG(INFO) Added: freq=157 size=60 all=1347 active=1284 piece=िं\n",
      "bpe_model_trainer.cc(268) LOG(INFO) Added: freq=116 size=80 all=1520 active=1457 piece=▁ह\n",
      "bpe_model_trainer.cc(268) LOG(INFO) Added: freq=82 size=100 all=1661 active=1598 piece=▁भ्राता\n",
      "bpe_model_trainer.cc(159) LOG(INFO) Updating active symbols. max_freq=81 min_freq=1\n",
      "bpe_model_trainer.cc(268) LOG(INFO) Added: freq=66 size=120 all=1753 active=1093 piece=यति\n",
      "bpe_model_trainer.cc(268) LOG(INFO) Added: freq=53 size=140 all=1840 active=1180 piece=▁सा\n",
      "bpe_model_trainer.cc(268) LOG(INFO) Added: freq=42 size=160 all=1935 active=1275 piece=्यति\n",
      "bpe_model_trainer.cc(268) LOG(INFO) Added: freq=35 size=180 all=1983 active=1323 piece=▁गच्छति\n",
      "bpe_model_trainer.cc(268) LOG(INFO) Added: freq=28 size=200 all=2057 active=1397 piece=रोगः\n",
      "bpe_model_trainer.cc(159) LOG(INFO) Updating active symbols. max_freq=28 min_freq=2\n",
      "bpe_model_trainer.cc(268) LOG(INFO) Added: freq=25 size=220 all=2146 active=1079 piece=न्त\n",
      "bpe_model_trainer.cc(268) LOG(INFO) Added: freq=21 size=240 all=2237 active=1170 piece=ित\n",
      "bpe_model_trainer.cc(268) LOG(INFO) Added: freq=19 size=260 all=2297 active=1230 piece=▁फलं\n",
      "bpe_model_trainer.cc(268) LOG(INFO) Added: freq=17 size=280 all=2331 active=1264 piece=ायु\n",
      "bpe_model_trainer.cc(268) LOG(INFO) Added: freq=15 size=300 all=2365 active=1298 piece=ार्\n",
      "bpe_model_trainer.cc(159) LOG(INFO) Updating active symbols. max_freq=15 min_freq=2\n",
      "bpe_model_trainer.cc(268) LOG(INFO) Added: freq=14 size=320 all=2404 active=1033 piece=▁उच्चैः\n",
      "bpe_model_trainer.cc(268) LOG(INFO) Added: freq=12 size=340 all=2442 active=1071 piece=ानं\n",
      "bpe_model_trainer.cc(268) LOG(INFO) Added: freq=11 size=360 all=2464 active=1093 piece=भव\n",
      "bpe_model_trainer.cc(268) LOG(INFO) Added: freq=10 size=380 all=2505 active=1134 piece=म्प\n",
      "bpe_model_trainer.cc(268) LOG(INFO) Added: freq=10 size=400 all=2542 active=1171 piece=▁उपयोग\n",
      "bpe_model_trainer.cc(159) LOG(INFO) Updating active symbols. max_freq=10 min_freq=1\n",
      "bpe_model_trainer.cc(268) LOG(INFO) Added: freq=9 size=420 all=2546 active=1003 piece=ारयति\n",
      "bpe_model_trainer.cc(268) LOG(INFO) Added: freq=9 size=440 all=2543 active=1000 piece=▁चिकित्सकः\n",
      "bpe_model_trainer.cc(268) LOG(INFO) Added: freq=8 size=460 all=2590 active=1047 piece=▁ताप\n",
      "bpe_model_trainer.cc(268) LOG(INFO) Added: freq=8 size=480 all=2594 active=1051 piece=▁स्नामः\n",
      "bpe_model_trainer.cc(268) LOG(INFO) Added: freq=7 size=500 all=2631 active=1088 piece=ात्\n",
      "bpe_model_trainer.cc(159) LOG(INFO) Updating active symbols. max_freq=7 min_freq=1\n",
      "bpe_model_trainer.cc(268) LOG(INFO) Added: freq=7 size=520 all=2659 active=1025 piece=▁गायसि\n",
      "bpe_model_trainer.cc(268) LOG(INFO) Added: freq=6 size=540 all=2657 active=1023 piece=यु\n",
      "bpe_model_trainer.cc(268) LOG(INFO) Added: freq=6 size=560 all=2704 active=1070 piece=▁उदर\n",
      "bpe_model_trainer.cc(268) LOG(INFO) Added: freq=6 size=580 all=2722 active=1088 piece=िष्यति\n",
      "bpe_model_trainer.cc(268) LOG(INFO) Added: freq=6 size=600 all=2709 active=1075 piece=▁दीर्घकालीन\n",
      "bpe_model_trainer.cc(159) LOG(INFO) Updating active symbols. max_freq=6 min_freq=1\n",
      "bpe_model_trainer.cc(268) LOG(INFO) Added: freq=5 size=620 all=2759 active=1047 piece=▁तर\n",
      "bpe_model_trainer.cc(268) LOG(INFO) Added: freq=5 size=640 all=2773 active=1061 piece=▁अद्य\n",
      "bpe_model_trainer.cc(268) LOG(INFO) Added: freq=5 size=660 all=2765 active=1053 piece=▁ज्वरस्य\n",
      "bpe_model_trainer.cc(268) LOG(INFO) Added: freq=4 size=680 all=2770 active=1058 piece=िण\n",
      "bpe_model_trainer.cc(268) LOG(INFO) Added: freq=4 size=700 all=2820 active=1108 piece=ीडा\n",
      "bpe_model_trainer.cc(159) LOG(INFO) Updating active symbols. max_freq=4 min_freq=1\n",
      "bpe_model_trainer.cc(268) LOG(INFO) Added: freq=4 size=720 all=2843 active=1022 piece=▁आयु\n",
      "bpe_model_trainer.cc(268) LOG(INFO) Added: freq=4 size=740 all=2859 active=1038 piece=▁करोतु\n",
      "bpe_model_trainer.cc(268) LOG(INFO) Added: freq=4 size=760 all=2861 active=1040 piece=▁ग्रामे\n",
      "bpe_model_trainer.cc(268) LOG(INFO) Added: freq=4 size=780 all=2846 active=1025 piece=▁वस्त्रं\n",
      "bpe_model_trainer.cc(268) LOG(INFO) Added: freq=3 size=800 all=2838 active=1017 piece=को\n",
      "bpe_model_trainer.cc(159) LOG(INFO) Updating active symbols. max_freq=3 min_freq=1\n",
      "bpe_model_trainer.cc(268) LOG(INFO) Added: freq=3 size=820 all=2870 active=1028 piece=तुल\n",
      "bpe_model_trainer.cc(268) LOG(INFO) Added: freq=3 size=840 all=2891 active=1049 piece=्यव\n",
      "bpe_model_trainer.cc(268) LOG(INFO) Added: freq=3 size=860 all=2904 active=1062 piece=व्यं\n",
      "bpe_model_trainer.cc(268) LOG(INFO) Added: freq=3 size=880 all=2916 active=1074 piece=▁सङ्\n",
      "bpe_model_trainer.cc(268) LOG(INFO) Added: freq=3 size=900 all=2923 active=1081 piece=▁पाचन\n",
      "bpe_model_trainer.cc(159) LOG(INFO) Updating active symbols. max_freq=3 min_freq=1\n",
      "bpe_model_trainer.cc(268) LOG(INFO) Added: freq=3 size=920 all=2915 active=991 piece=▁कृषकः\n",
      "bpe_model_trainer.cc(268) LOG(INFO) Added: freq=3 size=940 all=2914 active=990 piece=▁दुर्लभ\n",
      "bpe_model_trainer.cc(268) LOG(INFO) Added: freq=3 size=960 all=2903 active=979 piece=▁नियमितः\n",
      "bpe_model_trainer.cc(268) LOG(INFO) Added: freq=3 size=980 all=2889 active=965 piece=▁व्यायामः\n",
      "bpe_model_trainer.cc(268) LOG(INFO) Added: freq=2 size=1000 all=2873 active=949 piece=कट\n",
      "bpe_model_trainer.cc(159) LOG(INFO) Updating active symbols. max_freq=2 min_freq=1\n",
      "bpe_model_trainer.cc(268) LOG(INFO) Added: freq=2 size=1020 all=2898 active=1024 piece=ेश\n",
      "bpe_model_trainer.cc(268) LOG(INFO) Added: freq=2 size=1040 all=2915 active=1041 piece=भाव\n",
      "bpe_model_trainer.cc(268) LOG(INFO) Added: freq=2 size=1060 all=2931 active=1057 piece=्रः\n",
      "bpe_model_trainer.cc(268) LOG(INFO) Added: freq=2 size=1080 all=2939 active=1065 piece=णीयः\n",
      "bpe_model_trainer.cc(268) LOG(INFO) Added: freq=2 size=1100 all=2952 active=1078 piece=स्या\n",
      "bpe_model_trainer.cc(159) LOG(INFO) Updating active symbols. max_freq=2 min_freq=0\n",
      "bpe_model_trainer.cc(268) LOG(INFO) Added: freq=2 size=1120 all=2958 active=1006 piece=▁दूष\n",
      "bpe_model_trainer.cc(268) LOG(INFO) Added: freq=2 size=1140 all=2964 active=1012 piece=यरोगः\n",
      "bpe_model_trainer.cc(268) LOG(INFO) Added: freq=2 size=1160 all=2973 active=1021 piece=्चारं\n",
      "bpe_model_trainer.cc(268) LOG(INFO) Added: freq=2 size=1180 all=2966 active=1014 piece=▁पानं\n",
      "bpe_model_trainer.cc(268) LOG(INFO) Added: freq=2 size=1200 all=2965 active=1013 piece=र्कतया\n",
      "bpe_model_trainer.cc(159) LOG(INFO) Updating active symbols. max_freq=2 min_freq=0\n",
      "bpe_model_trainer.cc(268) LOG(INFO) Added: freq=2 size=1220 all=2961 active=996 piece=▁पूर्व\n",
      "bpe_model_trainer.cc(268) LOG(INFO) Added: freq=2 size=1240 all=2954 active=989 piece=▁ओषधस्य\n",
      "bpe_model_trainer.cc(268) LOG(INFO) Added: freq=2 size=1260 all=2944 active=979 piece=▁समस्या\n",
      "bpe_model_trainer.cc(268) LOG(INFO) Added: freq=2 size=1280 all=2937 active=972 piece=▁जीवाणवः\n",
      "bpe_model_trainer.cc(268) LOG(INFO) Added: freq=2 size=1300 all=2918 active=953 piece=▁समाप्तं\n",
      "bpe_model_trainer.cc(159) LOG(INFO) Updating active symbols. max_freq=2 min_freq=0\n",
      "bpe_model_trainer.cc(268) LOG(INFO) Added: freq=2 size=1320 all=2901 active=984 piece=▁परामर्शः\n",
      "bpe_model_trainer.cc(268) LOG(INFO) Added: freq=2 size=1340 all=2881 active=964 piece=▁दीर्घरोगः\n",
      "bpe_model_trainer.cc(268) LOG(INFO) Added: freq=2 size=1360 all=2861 active=944 piece=▁हृदयरोगस्य\n",
      "bpe_model_trainer.cc(268) LOG(INFO) Added: freq=1 size=1380 all=2845 active=928 piece=गः\n",
      "bpe_model_trainer.cc(268) LOG(INFO) Added: freq=1 size=1400 all=2861 active=944 piece=फो\n",
      "bpe_model_trainer.cc(159) LOG(INFO) Updating active symbols. max_freq=1 min_freq=0\n",
      "bpe_model_trainer.cc(268) LOG(INFO) Added: freq=1 size=1420 all=2874 active=1012 piece=▁ऊ\n",
      "bpe_model_trainer.cc(268) LOG(INFO) Added: freq=1 size=1440 all=2884 active=1022 piece=तुं\n",
      "bpe_model_trainer.cc(268) LOG(INFO) Added: freq=1 size=1460 all=2894 active=1032 piece=रमज\n",
      "bpe_model_trainer.cc(268) LOG(INFO) Added: freq=1 size=1480 all=2905 active=1043 piece=िता\n",
      "bpe_model_trainer.cc(268) LOG(INFO) Added: freq=1 size=1500 all=2908 active=1046 piece=▁लु\n",
      "bpe_model_trainer.cc(159) LOG(INFO) Updating active symbols. max_freq=1 min_freq=0\n",
      "bpe_model_trainer.cc(268) LOG(INFO) Added: freq=1 size=1520 all=2920 active=1012 piece=दृष्\n",
      "bpe_model_trainer.cc(268) LOG(INFO) Added: freq=1 size=1540 all=2925 active=1017 piece=सादः\n",
      "bpe_model_trainer.cc(268) LOG(INFO) Added: freq=1 size=1560 all=2931 active=1023 piece=ोव्य\n",
      "bpe_model_trainer.cc(268) LOG(INFO) Added: freq=1 size=1580 all=2928 active=1020 piece=▁मस्\n",
      "bpe_model_trainer.cc(268) LOG(INFO) Added: freq=1 size=1600 all=2931 active=1023 piece=तमद्य\n",
      "bpe_model_trainer.cc(159) LOG(INFO) Updating active symbols. max_freq=1 min_freq=0\n",
      "bpe_model_trainer.cc(268) LOG(INFO) Added: freq=1 size=1620 all=2934 active=1002 piece=ाचीनः\n",
      "bpe_model_trainer.cc(268) LOG(INFO) Added: freq=1 size=1640 all=2931 active=999 piece=▁तस्य\n",
      "bpe_model_trainer.cc(268) LOG(INFO) Added: freq=1 size=1660 all=2917 active=985 piece=▁रोगं\n",
      "bpe_model_trainer.cc(268) LOG(INFO) Added: freq=1 size=1680 all=2911 active=979 piece=टेरोलः\n",
      "bpe_model_trainer.cc(268) LOG(INFO) Added: freq=1 size=1700 all=2915 active=983 piece=ितकरम्\n",
      "bpe_model_trainer.cc(159) LOG(INFO) Updating active symbols. max_freq=1 min_freq=0\n",
      "bpe_model_trainer.cc(268) LOG(INFO) Added: freq=1 size=1720 all=2902 active=987 piece=▁नमामि\n",
      "bpe_model_trainer.cc(268) LOG(INFO) Added: freq=1 size=1740 all=2884 active=969 piece=▁हेतुं\n",
      "bpe_model_trainer.cc(268) LOG(INFO) Added: freq=1 size=1760 all=2883 active=968 piece=▁अनियमः\n",
      "bpe_model_trainer.cc(268) LOG(INFO) Added: freq=1 size=1780 all=2866 active=951 piece=▁द्वारे\n",
      "bpe_model_trainer.cc(268) LOG(INFO) Added: freq=1 size=1800 all=2849 active=934 piece=▁स्वयम्\n",
      "bpe_model_trainer.cc(159) LOG(INFO) Updating active symbols. max_freq=1 min_freq=0\n",
      "bpe_model_trainer.cc(268) LOG(INFO) Added: freq=1 size=1820 all=2837 active=989 piece=▁उपविशतु\n",
      "bpe_model_trainer.cc(268) LOG(INFO) Added: freq=1 size=1840 all=2817 active=969 piece=▁पाण्डुः\n",
      "bpe_model_trainer.cc(268) LOG(INFO) Added: freq=1 size=1860 all=2800 active=952 piece=▁सर्वत्र\n",
      "bpe_model_trainer.cc(268) LOG(INFO) Added: freq=1 size=1880 all=2786 active=938 piece=▁उदरवेदना\n",
      "bpe_model_trainer.cc(268) LOG(INFO) Added: freq=1 size=1900 all=2766 active=918 piece=▁परिश्रमं\n",
      "bpe_model_trainer.cc(159) LOG(INFO) Updating active symbols. max_freq=1 min_freq=0\n",
      "bpe_model_trainer.cc(268) LOG(INFO) Added: freq=1 size=1920 all=2746 active=981 piece=▁स्वच्छम्\n",
      "bpe_model_trainer.cc(268) LOG(INFO) Added: freq=1 size=1940 all=2729 active=964 piece=▁जठराग्निः\n",
      "bpe_model_trainer.cc(268) LOG(INFO) Added: freq=1 size=1960 all=2709 active=944 piece=▁हृद्रोगेण\n",
      "bpe_model_trainer.cc(268) LOG(INFO) Added: freq=1 size=1980 all=2690 active=925 piece=▁संक्रमणीयः\n",
      "bpe_model_trainer.cc(268) LOG(INFO) Added: freq=1 size=2000 all=2671 active=906 piece=▁उच्चरक्तचापः\n",
      "bpe_model_trainer.cc(159) LOG(INFO) Updating active symbols. max_freq=1 min_freq=0\n",
      "bpe_model_trainer.cc(268) LOG(INFO) Added: freq=1 size=2020 all=2651 active=981 piece=▁उदरविषाणविकासः\n",
      "bpe_model_trainer.cc(268) LOG(INFO) Added: freq=0 size=2040 all=2631 active=961 piece=चढ\n",
      "bpe_model_trainer.cc(268) LOG(INFO) Added: freq=0 size=2060 all=2611 active=941 piece=थः\n",
      "bpe_model_trainer.cc(268) LOG(INFO) Added: freq=0 size=2080 all=2591 active=921 piece=बि\n",
      "bpe_model_trainer.cc(268) LOG(INFO) Added: freq=0 size=2100 all=2571 active=901 piece=वप\n",
      "bpe_model_trainer.cc(159) LOG(INFO) Updating active symbols. max_freq=0 min_freq=0\n",
      "bpe_model_trainer.cc(268) LOG(INFO) Added: freq=0 size=2120 all=2551 active=981 piece=पद\n",
      "bpe_model_trainer.cc(268) LOG(INFO) Added: freq=0 size=2140 all=2531 active=961 piece=हन\n",
      "bpe_model_trainer.cc(268) LOG(INFO) Added: freq=0 size=2160 all=2511 active=941 piece=ेर\n",
      "bpe_model_trainer.cc(268) LOG(INFO) Added: freq=0 size=2180 all=2491 active=921 piece=खनं\n",
      "bpe_model_trainer.cc(268) LOG(INFO) Added: freq=0 size=2200 all=2471 active=901 piece=डति\n",
      "bpe_model_trainer.cc(159) LOG(INFO) Updating active symbols. max_freq=0 min_freq=0\n",
      "bpe_model_trainer.cc(268) LOG(INFO) Added: freq=0 size=2220 all=2451 active=981 piece=थय\n",
      "bpe_model_trainer.cc(268) LOG(INFO) Added: freq=0 size=2240 all=2431 active=961 piece=्ठ\n",
      "bpe_model_trainer.cc(268) LOG(INFO) Added: freq=0 size=2260 all=2411 active=941 piece=दरव\n",
      "bpe_model_trainer.cc(268) LOG(INFO) Added: freq=0 size=2280 all=2391 active=921 piece=रकः\n",
      "bpe_model_trainer.cc(268) LOG(INFO) Added: freq=0 size=2300 all=2371 active=901 piece=वेश\n",
      "bpe_model_trainer.cc(159) LOG(INFO) Updating active symbols. max_freq=0 min_freq=0\n",
      "bpe_model_trainer.cc(268) LOG(INFO) Added: freq=0 size=2320 all=2351 active=981 piece=वा\n",
      "bpe_model_trainer.cc(268) LOG(INFO) Added: freq=0 size=2340 all=2331 active=961 piece=दाह\n",
      "bpe_model_trainer.cc(268) LOG(INFO) Added: freq=0 size=2360 all=2311 active=941 piece=स्ट\n",
      "bpe_model_trainer.cc(268) LOG(INFO) Added: freq=0 size=2380 all=2291 active=921 piece=ामस\n",
      "bpe_model_trainer.cc(268) LOG(INFO) Added: freq=0 size=2400 all=2271 active=901 piece=ीरः\n",
      "bpe_model_trainer.cc(159) LOG(INFO) Updating active symbols. max_freq=0 min_freq=0\n",
      "bpe_model_trainer.cc(268) LOG(INFO) Added: freq=0 size=2420 all=2251 active=981 piece=रि\n",
      "bpe_model_trainer.cc(268) LOG(INFO) Added: freq=0 size=2440 all=2231 active=961 piece=त्त\n",
      "bpe_model_trainer.cc(268) LOG(INFO) Added: freq=0 size=2460 all=2211 active=941 piece=ृद्\n",
      "bpe_model_trainer.cc(268) LOG(INFO) Added: freq=0 size=2480 all=2191 active=921 piece=्यम\n",
      "bpe_model_trainer.cc(268) LOG(INFO) Added: freq=0 size=2500 all=2171 active=901 piece=▁कण\n",
      "bpe_model_trainer.cc(159) LOG(INFO) Updating active symbols. max_freq=0 min_freq=0\n",
      "bpe_model_trainer.cc(268) LOG(INFO) Added: freq=0 size=2520 all=2151 active=981 piece=नल\n",
      "bpe_model_trainer.cc(268) LOG(INFO) Added: freq=0 size=2540 all=2131 active=961 piece=ञात\n",
      "bpe_model_trainer.cc(268) LOG(INFO) Added: freq=0 size=2560 all=2111 active=941 piece=्षः\n",
      "bpe_model_trainer.cc(268) LOG(INFO) Added: freq=0 size=2580 all=2091 active=921 piece=▁ता\n",
      "bpe_model_trainer.cc(268) LOG(INFO) Added: freq=0 size=2600 all=2071 active=901 piece=▁वन\n",
      "bpe_model_trainer.cc(159) LOG(INFO) Updating active symbols. max_freq=0 min_freq=0\n",
      "bpe_model_trainer.cc(268) LOG(INFO) Added: freq=0 size=2620 all=2051 active=981 piece=डः\n",
      "bpe_model_trainer.cc(268) LOG(INFO) Added: freq=0 size=2640 all=2031 active=961 piece=सर\n",
      "bpe_model_trainer.cc(268) LOG(INFO) Added: freq=0 size=2660 all=2011 active=941 piece=ेहः\n",
      "bpe_model_trainer.cc(268) LOG(INFO) Added: freq=0 size=2680 all=1991 active=921 piece=▁से\n",
      "bpe_model_trainer.cc(268) LOG(INFO) Added: freq=0 size=2700 all=1971 active=901 piece=गीतं\n",
      "bpe_model_trainer.cc(159) LOG(INFO) Updating active symbols. max_freq=0 min_freq=0\n",
      "bpe_model_trainer.cc(268) LOG(INFO) Added: freq=0 size=2720 all=1951 active=981 piece=मे\n",
      "bpe_model_trainer.cc(268) LOG(INFO) Added: freq=0 size=2740 all=1931 active=961 piece=ठदा\n",
      "bpe_model_trainer.cc(268) LOG(INFO) Added: freq=0 size=2760 all=1911 active=941 piece=कस्व\n",
      "bpe_model_trainer.cc(268) LOG(INFO) Added: freq=0 size=2780 all=1891 active=921 piece=जीर्\n",
      "bpe_model_trainer.cc(268) LOG(INFO) Added: freq=0 size=2800 all=1871 active=901 piece=त्रः\n",
      "bpe_model_trainer.cc(159) LOG(INFO) Updating active symbols. max_freq=0 min_freq=0\n",
      "bpe_model_trainer.cc(268) LOG(INFO) Added: freq=0 size=2820 all=1851 active=981 piece=जस्\n",
      "bpe_model_trainer.cc(268) LOG(INFO) Added: freq=0 size=2840 all=1831 active=961 piece=स्न\n",
      "bpe_model_trainer.cc(268) LOG(INFO) Added: freq=0 size=2860 all=1811 active=941 piece=त्रच\n",
      "bpe_model_trainer.cc(268) LOG(INFO) Added: freq=0 size=2880 all=1791 active=921 piece=द्धं\n",
      "bpe_model_trainer.cc(268) LOG(INFO) Added: freq=0 size=2900 all=1771 active=901 piece=न्दि\n",
      "bpe_model_trainer.cc(159) LOG(INFO) Updating active symbols. max_freq=0 min_freq=0\n",
      "bpe_model_trainer.cc(268) LOG(INFO) Added: freq=0 size=2920 all=1751 active=981 piece=मसि\n",
      "bpe_model_trainer.cc(268) LOG(INFO) Added: freq=0 size=2940 all=1731 active=961 piece=▁भग\n",
      "bpe_model_trainer.cc(268) LOG(INFO) Added: freq=0 size=2960 all=1711 active=941 piece=भिन्\n",
      "bpe_model_trainer.cc(268) LOG(INFO) Added: freq=0 size=2980 all=1691 active=921 piece=रोद्\n",
      "bpe_model_trainer.cc(268) LOG(INFO) Added: freq=0 size=3000 all=1671 active=901 piece=विकद\n",
      "bpe_model_trainer.cc(159) LOG(INFO) Updating active symbols. max_freq=0 min_freq=0\n",
      "bpe_model_trainer.cc(268) LOG(INFO) Added: freq=0 size=3020 all=1651 active=981 piece=धां\n",
      "bpe_model_trainer.cc(268) LOG(INFO) Added: freq=0 size=3040 all=1631 active=961 piece=ॉलं\n",
      "bpe_model_trainer.cc(268) LOG(INFO) Added: freq=0 size=3060 all=1611 active=941 piece=रुति\n",
      "bpe_model_trainer.cc(268) LOG(INFO) Added: freq=0 size=3080 all=1591 active=921 piece=सिरा\n",
      "bpe_model_trainer.cc(268) LOG(INFO) Added: freq=0 size=3100 all=1571 active=901 piece=ादसि\n",
      "bpe_model_trainer.cc(159) LOG(INFO) Updating active symbols. max_freq=0 min_freq=0\n",
      "bpe_model_trainer.cc(268) LOG(INFO) Added: freq=0 size=3120 all=1551 active=981 piece=धार\n",
      "bpe_model_trainer.cc(268) LOG(INFO) Added: freq=0 size=3140 all=1531 active=961 piece=िकद\n",
      "bpe_model_trainer.cc(268) LOG(INFO) Added: freq=0 size=3160 all=1511 active=941 piece=रक्ष\n",
      "bpe_model_trainer.cc(268) LOG(INFO) Added: freq=0 size=3180 all=1491 active=921 piece=ारोग\n",
      "bpe_model_trainer.cc(268) LOG(INFO) Added: freq=0 size=3200 all=1471 active=901 piece=िधिः\n",
      "bpe_model_trainer.cc(159) LOG(INFO) Updating active symbols. max_freq=0 min_freq=0\n",
      "bpe_model_trainer.cc(268) LOG(INFO) Added: freq=0 size=3220 all=1451 active=981 piece=म्भ\n",
      "bpe_model_trainer.cc(268) LOG(INFO) Added: freq=0 size=3240 all=1431 active=961 piece=त्ति\n",
      "bpe_model_trainer.cc(268) LOG(INFO) Added: freq=0 size=3260 all=1411 active=941 piece=ीक्ष\n",
      "bpe_model_trainer.cc(268) LOG(INFO) Added: freq=0 size=3280 all=1391 active=921 piece=ृष्ठ\n",
      "bpe_model_trainer.cc(268) LOG(INFO) Added: freq=0 size=3300 all=1371 active=901 piece=्यकं\n",
      "bpe_model_trainer.cc(159) LOG(INFO) Updating active symbols. max_freq=0 min_freq=0\n",
      "bpe_model_trainer.cc(268) LOG(INFO) Added: freq=0 size=3320 all=1351 active=981 piece=ूरं\n",
      "bpe_model_trainer.cc(268) LOG(INFO) Added: freq=0 size=3340 all=1331 active=961 piece=द्रो\n",
      "bpe_model_trainer.cc(268) LOG(INFO) Added: freq=0 size=3360 all=1311 active=941 piece=्यां\n",
      "bpe_model_trainer.cc(268) LOG(INFO) Added: freq=0 size=3380 all=1291 active=921 piece=▁अनु\n",
      "bpe_model_trainer.cc(268) LOG(INFO) Added: freq=0 size=3400 all=1271 active=901 piece=▁कस्\n",
      "bpe_model_trainer.cc(159) LOG(INFO) Updating active symbols. max_freq=0 min_freq=0\n",
      "bpe_model_trainer.cc(268) LOG(INFO) Added: freq=0 size=3420 all=1251 active=981 piece=निः\n",
      "bpe_model_trainer.cc(268) LOG(INFO) Added: freq=0 size=3440 all=1231 active=961 piece=▁दी\n",
      "bpe_model_trainer.cc(268) LOG(INFO) Added: freq=0 size=3460 all=1211 active=941 piece=्रता\n",
      "bpe_model_trainer.cc(268) LOG(INFO) Added: freq=0 size=3480 all=1191 active=921 piece=▁जनय\n",
      "bpe_model_trainer.cc(268) LOG(INFO) Added: freq=0 size=3500 all=1171 active=901 piece=▁पुर\n",
      "bpe_model_trainer.cc(159) LOG(INFO) Updating active symbols. max_freq=0 min_freq=0\n",
      "bpe_model_trainer.cc(268) LOG(INFO) Added: freq=0 size=3520 all=1151 active=981 piece=ागृ\n",
      "bpe_model_trainer.cc(268) LOG(INFO) Added: freq=0 size=3540 all=1131 active=961 piece=दरवे\n",
      "bpe_model_trainer.cc(268) LOG(INFO) Added: freq=0 size=3560 all=1111 active=941 piece=▁बहु\n",
      "bpe_model_trainer.cc(268) LOG(INFO) Added: freq=0 size=3580 all=1091 active=921 piece=▁व्र\n",
      "bpe_model_trainer.cc(268) LOG(INFO) Added: freq=0 size=3600 all=1071 active=901 piece=▁सुं\n",
      "bpe_model_trainer.cc(159) LOG(INFO) Updating active symbols. max_freq=0 min_freq=0\n",
      "bpe_model_trainer.cc(268) LOG(INFO) Added: freq=0 size=3620 all=1051 active=981 piece=वाण\n",
      "bpe_model_trainer.cc(268) LOG(INFO) Added: freq=0 size=3640 all=1031 active=961 piece=र्वे\n",
      "bpe_model_trainer.cc(268) LOG(INFO) Added: freq=0 size=3660 all=1011 active=941 piece=▁नास\n",
      "bpe_model_trainer.cc(268) LOG(INFO) Added: freq=0 size=3680 all=991 active=921 piece=कालीन\n",
      "bpe_model_trainer.cc(268) LOG(INFO) Added: freq=0 size=3700 all=971 active=901 piece=जन्यः\n",
      "bpe_model_trainer.cc(159) LOG(INFO) Updating active symbols. max_freq=0 min_freq=0\n",
      "bpe_model_trainer.cc(268) LOG(INFO) Added: freq=0 size=3720 all=951 active=888 piece=त्पाद\n",
      "bpe_model_trainer.cc(268) LOG(INFO) Added: freq=0 size=3740 all=931 active=868 piece=थासमय\n",
      "bpe_model_trainer.cc(268) LOG(INFO) Added: freq=0 size=3760 all=911 active=848 piece=न्त्र\n",
      "bpe_model_trainer.cc(268) LOG(INFO) Added: freq=0 size=3780 all=891 active=828 piece=यित्व\n",
      "bpe_model_trainer.cc(268) LOG(INFO) Added: freq=0 size=3800 all=871 active=808 piece=र्याय\n",
      "bpe_model_trainer.cc(159) LOG(INFO) Updating active symbols. max_freq=0 min_freq=0\n",
      "bpe_model_trainer.cc(268) LOG(INFO) Added: freq=0 size=3820 all=851 active=788 piece=स्तकं\n",
      "bpe_model_trainer.cc(268) LOG(INFO) Added: freq=0 size=3840 all=831 active=768 piece=ान्ता\n",
      "bpe_model_trainer.cc(268) LOG(INFO) Added: freq=0 size=3860 all=811 active=748 piece=ावामः\n",
      "bpe_model_trainer.cc(268) LOG(INFO) Added: freq=0 size=3880 all=791 active=728 piece=ीव्रः\n",
      "bpe_model_trainer.cc(268) LOG(INFO) Added: freq=0 size=3900 all=771 active=708 piece=्टान्\n",
      "bpe_model_trainer.cc(159) LOG(INFO) Updating active symbols. max_freq=0 min_freq=0\n",
      "bpe_model_trainer.cc(268) LOG(INFO) Added: freq=0 size=3920 all=751 active=688 piece=▁अत्य\n",
      "bpe_model_trainer.cc(268) LOG(INFO) Added: freq=0 size=3940 all=731 active=668 piece=▁करोष\n",
      "bpe_model_trainer.cc(268) LOG(INFO) Added: freq=0 size=3960 all=711 active=648 piece=▁तापम\n",
      "bpe_model_trainer.cc(268) LOG(INFO) Added: freq=0 size=3980 all=691 active=628 piece=▁पाठश\n",
      "bpe_model_trainer.cc(268) LOG(INFO) Added: freq=0 size=4000 all=671 active=608 piece=▁मध्य\n",
      "bpe_model_trainer.cc(159) LOG(INFO) Updating active symbols. max_freq=0 min_freq=0\n",
      "bpe_model_trainer.cc(268) LOG(INFO) Added: freq=0 size=4020 all=651 active=588 piece=▁समाच\n",
      "bpe_model_trainer.cc(268) LOG(INFO) Added: freq=0 size=4040 all=631 active=568 piece=क्तार्\n",
      "bpe_model_trainer.cc(268) LOG(INFO) Added: freq=0 size=4060 all=611 active=548 piece=त्वारः\n",
      "bpe_model_trainer.cc(268) LOG(INFO) Added: freq=0 size=4080 all=591 active=528 piece=भ्यासं\n",
      "bpe_model_trainer.cc(268) LOG(INFO) Added: freq=0 size=4100 all=571 active=508 piece=विषाणव\n",
      "bpe_model_trainer.cc(159) LOG(INFO) Updating active symbols. max_freq=0 min_freq=0\n",
      "bpe_model_trainer.cc(268) LOG(INFO) Added: freq=0 size=4120 all=551 active=488 piece=स्मात्\n",
      "bpe_model_trainer.cc(268) LOG(INFO) Added: freq=0 size=4140 all=531 active=468 piece=िक्षकः\n",
      "bpe_model_trainer.cc(268) LOG(INFO) Added: freq=0 size=4160 all=511 active=448 piece=ेजस्वी\n",
      "bpe_model_trainer.cc(268) LOG(INFO) Added: freq=0 size=4180 all=491 active=428 piece=▁अतिरे\n",
      "bpe_model_trainer.cc(268) LOG(INFO) Added: freq=0 size=4200 all=471 active=408 piece=▁कुरुष\n",
      "bpe_model_trainer.cc(159) LOG(INFO) Updating active symbols. max_freq=0 min_freq=0\n",
      "bpe_model_trainer.cc(268) LOG(INFO) Added: freq=0 size=4220 all=451 active=388 piece=▁दन्तश\n",
      "bpe_model_trainer.cc(268) LOG(INFO) Added: freq=0 size=4240 all=431 active=368 piece=▁प्राप\n",
      "bpe_model_trainer.cc(268) LOG(INFO) Added: freq=0 size=4260 all=411 active=348 piece=▁रोगाण\n",
      "bpe_model_trainer.cc(268) LOG(INFO) Added: freq=0 size=4280 all=391 active=328 piece=▁सुन्द\n",
      "bpe_model_trainer.cc(268) LOG(INFO) Added: freq=0 size=4300 all=371 active=308 piece=थासमयम्\n",
      "bpe_model_trainer.cc(159) LOG(INFO) Updating active symbols. max_freq=0 min_freq=0\n",
      "bpe_model_trainer.cc(268) LOG(INFO) Added: freq=0 size=4320 all=351 active=288 piece=र��णरोगः\n",
      "bpe_model_trainer.cc(268) LOG(INFO) Added: freq=0 size=4340 all=331 active=268 piece=िकित्सन\n",
      "bpe_model_trainer.cc(268) LOG(INFO) Added: freq=0 size=4360 all=311 active=248 piece=▁आवश्यक\n",
      "bpe_model_trainer.cc(268) LOG(INFO) Added: freq=0 size=4380 all=291 active=228 piece=▁तामसिक\n",
      "bpe_model_trainer.cc(268) LOG(INFO) Added: freq=0 size=4400 all=271 active=208 piece=▁बाधायु\n",
      "bpe_model_trainer.cc(159) LOG(INFO) Updating active symbols. max_freq=0 min_freq=0\n",
      "bpe_model_trainer.cc(268) LOG(INFO) Added: freq=0 size=4420 all=251 active=188 piece=▁शरीरस्\n",
      "bpe_model_trainer.cc(268) LOG(INFO) Added: freq=0 size=4440 all=231 active=168 piece=क्ताभावः\n",
      "bpe_model_trainer.cc(268) LOG(INFO) Added: freq=0 size=4460 all=211 active=148 piece=िकित्साल\n",
      "bpe_model_trainer.cc(268) LOG(INFO) Added: freq=0 size=4480 all=191 active=128 piece=▁तैलाभ्य\n",
      "bpe_model_trainer.cc(268) LOG(INFO) Added: freq=0 size=4500 all=171 active=108 piece=▁विद्याल\n",
      "bpe_model_trainer.cc(159) LOG(INFO) Updating active symbols. max_freq=0 min_freq=0\n",
      "bpe_model_trainer.cc(268) LOG(INFO) Added: freq=0 size=4520 all=151 active=88 piece=ायविकदोषः\n",
      "bpe_model_trainer.cc(268) LOG(INFO) Added: freq=0 size=4540 all=131 active=68 piece=▁रक्ताल्प\n",
      "bpe_model_trainer.cc(268) LOG(INFO) Added: freq=0 size=4560 all=111 active=48 piece=▁चिकित्साव\n",
      "bpe_model_trainer.cc(268) LOG(INFO) Added: freq=0 size=4580 all=91 active=28 piece=विषाणविकासः\n",
      "bpe_model_trainer.cc(268) LOG(INFO) Added: freq=0 size=4600 all=71 active=8 piece=▁शल्यचिकित्स\n",
      "bpe_model_trainer.cc(159) LOG(INFO) Updating active symbols. max_freq=0 min_freq=0\n",
      "trainer_interface.cc(687) LOG(INFO) Saving model: ./model/sanskrit_tokenizer_2.model\n",
      "trainer_interface.cc(699) LOG(INFO) Saving vocabs: ./model/sanskrit_tokenizer_2.vocab\n"
     ]
    }
   ],
   "source": [
    "import sentencepiece as spm\n",
    "\n",
    "spm.SentencePieceTrainer.train(\n",
    "    input=\"./data/sankrit_2.txt\",\n",
    "    model_prefix=\"./model/sanskrit_tokenizer_2\",\n",
    "    vocab_size=4678,\n",
    "    model_type=\"bpe\",  # Can be 'unigram', 'word', or 'char'\n",
    "    character_coverage=1.0,  # Sanskrit has a small alphabet, so full coverage\n",
    "    user_defined_symbols=special_tokens,\n",
    "    # max_sentence_length=30\n",
    ")"
   ]
  },
  {
   "cell_type": "code",
   "execution_count": 17,
   "metadata": {},
   "outputs": [
    {
     "name": "stderr",
     "output_type": "stream",
     "text": [
      "sentencepiece_trainer.cc(78) LOG(INFO) Starts training with : \n",
      "trainer_spec {\n",
      "  input: ./data/kon.txt\n",
      "  input_format: \n",
      "  model_prefix: ./model/konkani_tokenizer\n",
      "  model_type: BPE\n",
      "  vocab_size: 3940\n",
      "  self_test_sample_size: 0\n",
      "  character_coverage: 1\n",
      "  input_sentence_size: 0\n",
      "  shuffle_input_sentence: 1\n",
      "  seed_sentencepiece_size: 1000000\n",
      "  shrinking_factor: 0.75\n",
      "  max_sentence_length: 4192\n",
      "  num_threads: 16\n",
      "  num_sub_iterations: 2\n",
      "  max_sentencepiece_length: 16\n",
      "  split_by_unicode_script: 1\n",
      "  split_by_number: 1\n",
      "  split_by_whitespace: 1\n",
      "  split_digits: 0\n",
      "  pretokenization_delimiter: \n",
      "  treat_whitespace_as_suffix: 0\n",
      "  allow_whitespace_only_pieces: 0\n",
      "  user_defined_symbols: [start]\n",
      "  user_defined_symbols: [end]\n",
      "  user_defined_symbols: [PAD]\n",
      "  user_defined_symbols: [UNK]\n",
      "  user_defined_symbols: <kn2>\n",
      "  required_chars: \n",
      "  byte_fallback: 0\n",
      "  vocabulary_output_piece_score: 1\n",
      "  train_extremely_large_corpus: 0\n",
      "  seed_sentencepieces_file: \n",
      "  hard_vocab_limit: 1\n",
      "  use_all_vocab: 0\n",
      "  unk_id: 0\n",
      "  bos_id: 1\n",
      "  eos_id: 2\n",
      "  pad_id: -1\n",
      "  unk_piece: <unk>\n",
      "  bos_piece: <s>\n",
      "  eos_piece: </s>\n",
      "  pad_piece: <pad>\n",
      "  unk_surface:  ⁇ \n",
      "  enable_differential_privacy: 0\n",
      "  differential_privacy_noise_level: 0\n",
      "  differential_privacy_clipping_threshold: 0\n",
      "}\n",
      "normalizer_spec {\n",
      "  name: nmt_nfkc\n",
      "  add_dummy_prefix: 1\n",
      "  remove_extra_whitespaces: 1\n",
      "  escape_whitespaces: 1\n",
      "  normalization_rule_tsv: \n",
      "}\n",
      "denormalizer_spec {}\n",
      "trainer_interface.cc(353) LOG(INFO) SentenceIterator is not specified. Using MultiFileSentenceIterator.\n",
      "trainer_interface.cc(185) LOG(INFO) Loading corpus: ./data/kon.txt\n",
      "trainer_interface.cc(409) LOG(INFO) Loaded all 1835 sentences\n",
      "trainer_interface.cc(425) LOG(INFO) Adding meta_piece: <unk>\n",
      "trainer_interface.cc(425) LOG(INFO) Adding meta_piece: <s>\n",
      "trainer_interface.cc(425) LOG(INFO) Adding meta_piece: </s>\n",
      "trainer_interface.cc(425) LOG(INFO) Adding meta_piece: [start]\n",
      "trainer_interface.cc(425) LOG(INFO) Adding meta_piece: [end]\n",
      "trainer_interface.cc(425) LOG(INFO) Adding meta_piece: [PAD]\n",
      "trainer_interface.cc(425) LOG(INFO) Adding meta_piece: [UNK]\n",
      "trainer_interface.cc(425) LOG(INFO) Adding meta_piece: <kn2>\n",
      "trainer_interface.cc(430) LOG(INFO) Normalizing sentences...\n",
      "trainer_interface.cc(539) LOG(INFO) all chars count=55647\n",
      "trainer_interface.cc(560) LOG(INFO) Alphabet size=66\n",
      "trainer_interface.cc(561) LOG(INFO) Final character coverage=1\n",
      "trainer_interface.cc(592) LOG(INFO) Done! preprocessed 1835 sentences.\n",
      "trainer_interface.cc(598) LOG(INFO) Tokenizing input sentences with whitespace: 1835\n",
      "trainer_interface.cc(609) LOG(INFO) Done! 910\n",
      "bpe_model_trainer.cc(159) LOG(INFO) Updating active symbols. max_freq=1525 min_freq=1\n",
      "bpe_model_trainer.cc(268) LOG(INFO) Added: freq=356 size=20 all=1058 active=991 piece=्य\n",
      "bpe_model_trainer.cc(268) LOG(INFO) Added: freq=223 size=40 all=1281 active=1214 piece=टा\n",
      "bpe_model_trainer.cc(268) LOG(INFO) Added: freq=152 size=60 all=1391 active=1324 piece=▁तो\n",
      "bpe_model_trainer.cc(268) LOG(INFO) Added: freq=115 size=80 all=1506 active=1439 piece=▁मोजो\n",
      "bpe_model_trainer.cc(268) LOG(INFO) Added: freq=88 size=100 all=1573 active=1506 piece=▁उदक\n",
      "bpe_model_trainer.cc(159) LOG(INFO) Updating active symbols. max_freq=86 min_freq=1\n",
      "bpe_model_trainer.cc(268) LOG(INFO) Added: freq=72 size=120 all=1630 active=1058 piece=ेन\n",
      "bpe_model_trainer.cc(268) LOG(INFO) Added: freq=55 size=140 all=1723 active=1151 piece=▁मोज\n",
      "bpe_model_trainer.cc(268) LOG(INFO) Added: freq=43 size=160 all=1772 active=1200 piece=तांव\n",
      "bpe_model_trainer.cc(268) LOG(INFO) Added: freq=34 size=180 all=1827 active=1255 piece=▁आजार\n",
      "bpe_model_trainer.cc(268) LOG(INFO) Added: freq=27 size=200 all=1871 active=1299 piece=टर\n",
      "bpe_model_trainer.cc(159) LOG(INFO) Updating active symbols. max_freq=27 min_freq=2\n",
      "bpe_model_trainer.cc(268) LOG(INFO) Added: freq=25 size=220 all=1944 active=1069 piece=▁लि\n",
      "bpe_model_trainer.cc(268) LOG(INFO) Added: freq=22 size=240 all=2006 active=1131 piece=▁केंवचें\n",
      "bpe_model_trainer.cc(268) LOG(INFO) Added: freq=18 size=260 all=2019 active=1144 piece=ाची\n",
      "bpe_model_trainer.cc(268) LOG(INFO) Added: freq=17 size=280 all=2039 active=1164 piece=ॉक्टर\n",
      "bpe_model_trainer.cc(268) LOG(INFO) Added: freq=16 size=300 all=2070 active=1195 piece=▁वतां\n",
      "bpe_model_trainer.cc(159) LOG(INFO) Updating active symbols. max_freq=16 min_freq=1\n",
      "bpe_model_trainer.cc(268) LOG(INFO) Added: freq=14 size=320 all=2102 active=1033 piece=ढटा\n",
      "bpe_model_trainer.cc(268) LOG(INFO) Added: freq=13 size=340 all=2116 active=1047 piece=ाल\n",
      "bpe_model_trainer.cc(268) LOG(INFO) Added: freq=12 size=360 all=2158 active=1089 piece=ळे\n",
      "bpe_model_trainer.cc(268) LOG(INFO) Added: freq=12 size=380 all=2196 active=1127 piece=▁आरोग्यास\n",
      "bpe_model_trainer.cc(268) LOG(INFO) Added: freq=10 size=400 all=2248 active=1179 piece=▁हळ\n",
      "bpe_model_trainer.cc(159) LOG(INFO) Updating active symbols. max_freq=10 min_freq=1\n",
      "bpe_model_trainer.cc(268) LOG(INFO) Added: freq=9 size=420 all=2241 active=993 piece=णा\n",
      "bpe_model_trainer.cc(268) LOG(INFO) Added: freq=9 size=440 all=2274 active=1026 piece=▁बागार\n",
      "bpe_model_trainer.cc(268) LOG(INFO) Added: freq=8 size=460 all=2301 active=1053 piece=▁अस\n",
      "bpe_model_trainer.cc(268) LOG(INFO) Added: freq=8 size=480 all=2319 active=1071 piece=▁लवकर\n",
      "bpe_model_trainer.cc(268) LOG(INFO) Added: freq=7 size=500 all=2317 active=1069 piece=्न\n",
      "bpe_model_trainer.cc(159) LOG(INFO) Updating active symbols. max_freq=7 min_freq=1\n",
      "bpe_model_trainer.cc(268) LOG(INFO) Added: freq=7 size=520 all=2327 active=1009 piece=▁प्रेमळ\n",
      "bpe_model_trainer.cc(268) LOG(INFO) Added: freq=6 size=540 all=2363 active=1045 piece=रोज\n",
      "bpe_model_trainer.cc(268) LOG(INFO) Added: freq=6 size=560 all=2386 active=1068 piece=▁जीव\n",
      "bpe_model_trainer.cc(268) LOG(INFO) Added: freq=6 size=580 all=2381 active=1063 piece=▁भावो\n",
      "bpe_model_trainer.cc(268) LOG(INFO) Added: freq=6 size=600 all=2368 active=1050 piece=▁रक्तातील\n",
      "bpe_model_trainer.cc(159) LOG(INFO) Updating active symbols. max_freq=6 min_freq=1\n",
      "bpe_model_trainer.cc(268) LOG(INFO) Added: freq=5 size=620 all=2394 active=1027 piece=बेट\n",
      "bpe_model_trainer.cc(268) LOG(INFO) Added: freq=5 size=640 all=2421 active=1054 piece=ेघां\n",
      "bpe_model_trainer.cc(268) LOG(INFO) Added: freq=5 size=660 all=2430 active=1063 piece=▁धांव\n",
      "bpe_model_trainer.cc(268) LOG(INFO) Added: freq=5 size=680 all=2423 active=1056 piece=▁वतांव\n",
      "bpe_model_trainer.cc(268) LOG(INFO) Added: freq=4 size=700 all=2415 active=1048 piece=ठ्\n",
      "bpe_model_trainer.cc(159) LOG(INFO) Updating active symbols. max_freq=4 min_freq=1\n",
      "bpe_model_trainer.cc(268) LOG(INFO) Added: freq=4 size=720 all=2441 active=1025 piece=ांग\n",
      "bpe_model_trainer.cc(268) LOG(INFO) Added: freq=4 size=740 all=2464 active=1048 piece=जन्य\n",
      "bpe_model_trainer.cc(268) LOG(INFO) Added: freq=4 size=760 all=2473 active=1057 piece=▁समस\n",
      "bpe_model_trainer.cc(268) LOG(INFO) Added: freq=4 size=780 all=2477 active=1061 piece=ार्थना\n",
      "bpe_model_trainer.cc(268) LOG(INFO) Added: freq=4 size=800 all=2466 active=1050 piece=▁परिणाम\n",
      "bpe_model_trainer.cc(159) LOG(INFO) Updating active symbols. max_freq=4 min_freq=0\n",
      "bpe_model_trainer.cc(268) LOG(INFO) Added: freq=3 size=820 all=2453 active=988 piece=ऍस\n",
      "bpe_model_trainer.cc(268) LOG(INFO) Added: freq=3 size=840 all=2476 active=1011 piece=्त\n",
      "bpe_model_trainer.cc(268) LOG(INFO) Added: freq=3 size=860 all=2489 active=1024 piece=ाचं\n",
      "bpe_model_trainer.cc(268) LOG(INFO) Added: freq=3 size=880 all=2508 active=1043 piece=दूषण\n",
      "bpe_model_trainer.cc(268) LOG(INFO) Added: freq=3 size=900 all=2516 active=1051 piece=▁नका\n",
      "bpe_model_trainer.cc(159) LOG(INFO) Updating active symbols. max_freq=3 min_freq=0\n",
      "bpe_model_trainer.cc(268) LOG(INFO) Added: freq=3 size=920 all=2513 active=998 piece=▁जखमे\n",
      "bpe_model_trainer.cc(268) LOG(INFO) Added: freq=3 size=940 all=2509 active=994 piece=▁उपचार\n",
      "bpe_model_trainer.cc(268) LOG(INFO) Added: freq=3 size=960 all=2498 active=983 piece=▁खेळतां\n",
      "bpe_model_trainer.cc(268) LOG(INFO) Added: freq=3 size=980 all=2486 active=971 piece=▁विचारता\n",
      "bpe_model_trainer.cc(268) LOG(INFO) Added: freq=2 size=1000 all=2474 active=959 piece=घड\n",
      "bpe_model_trainer.cc(159) LOG(INFO) Updating active symbols. max_freq=2 min_freq=0\n",
      "bpe_model_trainer.cc(268) LOG(INFO) Added: freq=2 size=1020 all=2486 active=1010 piece=ॉल\n",
      "bpe_model_trainer.cc(268) LOG(INFO) Added: freq=2 size=1040 all=2495 active=1019 piece=यली\n",
      "bpe_model_trainer.cc(268) LOG(INFO) Added: freq=2 size=1060 all=2502 active=1026 piece=▁पू\n",
      "bpe_model_trainer.cc(268) LOG(INFO) Added: freq=2 size=1080 all=2506 active=1030 piece=ांती\n",
      "bpe_model_trainer.cc(268) LOG(INFO) Added: freq=2 size=1100 all=2509 active=1033 piece=▁पर्\n",
      "bpe_model_trainer.cc(159) LOG(INFO) Updating active symbols. max_freq=2 min_freq=0\n",
      "bpe_model_trainer.cc(268) LOG(INFO) Added: freq=2 size=1120 all=2508 active=999 piece=विकार\n",
      "bpe_model_trainer.cc(268) LOG(INFO) Added: freq=2 size=1140 all=2504 active=995 piece=▁तणाव\n",
      "bpe_model_trainer.cc(268) LOG(INFO) Added: freq=2 size=1160 all=2492 active=983 piece=्यातील\n",
      "bpe_model_trainer.cc(268) LOG(INFO) Added: freq=2 size=1180 all=2478 active=969 piece=▁बाळीक\n",
      "bpe_model_trainer.cc(268) LOG(INFO) Added: freq=2 size=1200 all=2464 active=955 piece=▁ऐकतांव\n",
      "bpe_model_trainer.cc(159) LOG(INFO) Updating active symbols. max_freq=2 min_freq=0\n",
      "bpe_model_trainer.cc(268) LOG(INFO) Added: freq=2 size=1220 all=2444 active=981 piece=▁माज्या\n",
      "bpe_model_trainer.cc(268) LOG(INFO) Added: freq=2 size=1240 all=2427 active=964 piece=▁डोळ्यां\n",
      "bpe_model_trainer.cc(268) LOG(INFO) Added: freq=2 size=1260 all=2410 active=947 piece=▁उच्चारटा\n",
      "bpe_model_trainer.cc(268) LOG(INFO) Added: freq=2 size=1280 all=2391 active=928 piece=▁त्रासदायक\n",
      "bpe_model_trainer.cc(268) LOG(INFO) Added: freq=2 size=1300 all=2372 active=909 piece=▁हॉस्पिटलार\n",
      "bpe_model_trainer.cc(159) LOG(INFO) Updating active symbols. max_freq=2 min_freq=0\n",
      "bpe_model_trainer.cc(268) LOG(INFO) Added: freq=1 size=1320 all=2375 active=1004 piece=णे\n",
      "bpe_model_trainer.cc(268) LOG(INFO) Added: freq=1 size=1340 all=2387 active=1016 piece=ोव\n",
      "bpe_model_trainer.cc(268) LOG(INFO) Added: freq=1 size=1360 all=2397 active=1026 piece=णून\n",
      "bpe_model_trainer.cc(268) LOG(INFO) Added: freq=1 size=1380 all=2403 active=1032 piece=ांव\n",
      "bpe_model_trainer.cc(268) LOG(INFO) Added: freq=1 size=1400 all=2407 active=1036 piece=▁रह\n",
      "bpe_model_trainer.cc(159) LOG(INFO) Updating active symbols. max_freq=1 min_freq=0\n",
      "bpe_model_trainer.cc(268) LOG(INFO) Added: freq=1 size=1420 all=2409 active=1002 piece=लेलं\n",
      "bpe_model_trainer.cc(268) LOG(INFO) Added: freq=1 size=1440 all=2413 active=1006 piece=ेहनत\n",
      "bpe_model_trainer.cc(268) LOG(INFO) Added: freq=1 size=1460 all=2406 active=999 piece=▁तंद\n",
      "bpe_model_trainer.cc(268) LOG(INFO) Added: freq=1 size=1480 all=2396 active=989 piece=ंगलार\n",
      "bpe_model_trainer.cc(268) LOG(INFO) Added: freq=1 size=1500 all=2397 active=990 piece=▁अनेक\n",
      "bpe_model_trainer.cc(159) LOG(INFO) Updating active symbols. max_freq=1 min_freq=0\n",
      "bpe_model_trainer.cc(268) LOG(INFO) Added: freq=1 size=1520 all=2380 active=984 piece=▁घ्या\n",
      "bpe_model_trainer.cc(268) LOG(INFO) Added: freq=1 size=1540 all=2363 active=967 piece=▁शाळा\n",
      "bpe_model_trainer.cc(268) LOG(INFO) Added: freq=1 size=1560 all=2356 active=960 piece=ायोटिक\n",
      "bpe_model_trainer.cc(268) LOG(INFO) Added: freq=1 size=1580 all=2343 active=947 piece=▁घ्याय\n",
      "bpe_model_trainer.cc(268) LOG(INFO) Added: freq=1 size=1600 all=2326 active=930 piece=▁भेटता\n",
      "bpe_model_trainer.cc(159) LOG(INFO) Updating active symbols. max_freq=1 min_freq=0\n",
      "bpe_model_trainer.cc(268) LOG(INFO) Added: freq=1 size=1620 all=2306 active=981 piece=▁शाळेक\n",
      "bpe_model_trainer.cc(268) LOG(INFO) Added: freq=1 size=1640 all=2288 active=963 piece=▁चुकीचा\n",
      "bpe_model_trainer.cc(268) LOG(INFO) Added: freq=1 size=1660 all=2268 active=943 piece=▁बसतांव\n",
      "bpe_model_trainer.cc(268) LOG(INFO) Added: freq=1 size=1680 all=2251 active=926 piece=▁आजारानं\n",
      "bpe_model_trainer.cc(268) LOG(INFO) Added: freq=1 size=1700 all=2232 active=907 piece=▁पर्वतां\n",
      "bpe_model_trainer.cc(159) LOG(INFO) Updating active symbols. max_freq=1 min_freq=0\n",
      "bpe_model_trainer.cc(268) LOG(INFO) Added: freq=1 size=1720 all=2213 active=982 piece=▁सिरॉसिस\n",
      "bpe_model_trainer.cc(268) LOG(INFO) Added: freq=1 size=1740 all=2194 active=963 piece=▁पेशंटाचो\n",
      "bpe_model_trainer.cc(268) LOG(INFO) Added: freq=1 size=1760 all=2174 active=943 piece=▁डोळ��यांची\n",
      "bpe_model_trainer.cc(268) LOG(INFO) Added: freq=1 size=1780 all=2154 active=923 piece=▁प्रदूषणानं\n",
      "bpe_model_trainer.cc(268) LOG(INFO) Added: freq=1 size=1800 all=2134 active=903 piece=▁निर्जलीकरणानं\n",
      "bpe_model_trainer.cc(159) LOG(INFO) Updating active symbols. max_freq=1 min_freq=0\n",
      "bpe_model_trainer.cc(268) LOG(INFO) Added: freq=0 size=1820 all=2114 active=981 piece=आर\n",
      "bpe_model_trainer.cc(268) LOG(INFO) Added: freq=0 size=1840 all=2094 active=961 piece=कह\n",
      "bpe_model_trainer.cc(268) LOG(INFO) Added: freq=0 size=1860 all=2074 active=941 piece=चड\n",
      "bpe_model_trainer.cc(268) LOG(INFO) Added: freq=0 size=1880 all=2054 active=921 piece=टत\n",
      "bpe_model_trainer.cc(268) LOG(INFO) Added: freq=0 size=1900 all=2034 active=901 piece=तम\n",
      "bpe_model_trainer.cc(159) LOG(INFO) Updating active symbols. max_freq=0 min_freq=0\n",
      "bpe_model_trainer.cc(268) LOG(INFO) Added: freq=0 size=1920 all=2014 active=981 piece=ते\n",
      "bpe_model_trainer.cc(268) LOG(INFO) Added: freq=0 size=1940 all=1994 active=961 piece=धो\n",
      "bpe_model_trainer.cc(268) LOG(INFO) Added: freq=0 size=1960 all=1974 active=941 piece=बव\n",
      "bpe_model_trainer.cc(268) LOG(INFO) Added: freq=0 size=1980 all=1954 active=921 piece=मह\n",
      "bpe_model_trainer.cc(268) LOG(INFO) Added: freq=0 size=2000 all=1934 active=901 piece=रक\n",
      "bpe_model_trainer.cc(159) LOG(INFO) Updating active symbols. max_freq=0 min_freq=0\n",
      "bpe_model_trainer.cc(268) LOG(INFO) Added: freq=0 size=2020 all=1914 active=981 piece=नं\n",
      "bpe_model_trainer.cc(268) LOG(INFO) Added: freq=0 size=2040 all=1894 active=961 piece=रभ\n",
      "bpe_model_trainer.cc(268) LOG(INFO) Added: freq=0 size=2060 all=1874 active=941 piece=लस\n",
      "bpe_model_trainer.cc(268) LOG(INFO) Added: freq=0 size=2080 all=1854 active=921 piece=वल\n",
      "bpe_model_trainer.cc(268) LOG(INFO) Added: freq=0 size=2100 all=1834 active=901 piece=षि\n",
      "bpe_model_trainer.cc(159) LOG(INFO) Updating active symbols. max_freq=0 min_freq=0\n",
      "bpe_model_trainer.cc(268) LOG(INFO) Added: freq=0 size=2120 all=1814 active=981 piece=सी\n",
      "bpe_model_trainer.cc(268) LOG(INFO) Added: freq=0 size=2140 all=1794 active=961 piece=हो\n",
      "bpe_model_trainer.cc(268) LOG(INFO) Added: freq=0 size=2160 all=1774 active=941 piece=िच\n",
      "bpe_model_trainer.cc(268) LOG(INFO) Added: freq=0 size=2180 all=1754 active=921 piece=ुर\n",
      "bpe_model_trainer.cc(268) LOG(INFO) Added: freq=0 size=2200 all=1734 active=901 piece=ॉक\n",
      "bpe_model_trainer.cc(159) LOG(INFO) Updating active symbols. max_freq=0 min_freq=0\n",
      "bpe_model_trainer.cc(268) LOG(INFO) Added: freq=0 size=2220 all=1714 active=981 piece=्घ\n",
      "bpe_model_trainer.cc(268) LOG(INFO) Added: freq=0 size=2240 all=1694 active=961 piece=ंयक\n",
      "bpe_model_trainer.cc(268) LOG(INFO) Added: freq=0 size=2260 all=1674 active=941 piece=चनस\n",
      "bpe_model_trainer.cc(268) LOG(INFO) Added: freq=0 size=2280 all=1654 active=921 piece=टाच\n",
      "bpe_model_trainer.cc(268) LOG(INFO) Added: freq=0 size=2300 all=1634 active=901 piece=णाच\n",
      "bpe_model_trainer.cc(159) LOG(INFO) Updating active symbols. max_freq=0 min_freq=0\n",
      "bpe_model_trainer.cc(268) LOG(INFO) Added: freq=0 size=2320 all=1614 active=981 piece=तूं\n",
      "bpe_model_trainer.cc(268) LOG(INFO) Added: freq=0 size=2340 all=1594 active=961 piece=नाव\n",
      "bpe_model_trainer.cc(268) LOG(INFO) Added: freq=0 size=2360 all=1574 active=941 piece=माच\n",
      "bpe_model_trainer.cc(268) LOG(INFO) Added: freq=0 size=2380 all=1554 active=921 piece=लटा\n",
      "bpe_model_trainer.cc(268) LOG(INFO) Added: freq=0 size=2400 all=1534 active=901 piece=विक\n",
      "bpe_model_trainer.cc(159) LOG(INFO) Updating active symbols. max_freq=0 min_freq=0\n",
      "bpe_model_trainer.cc(268) LOG(INFO) Added: freq=0 size=2420 all=1514 active=981 piece=लाव\n",
      "bpe_model_trainer.cc(268) LOG(INFO) Added: freq=0 size=2440 all=1494 active=961 piece=हना\n",
      "bpe_model_trainer.cc(268) LOG(INFO) Added: freq=0 size=2460 all=1474 active=941 piece=ाजो\n",
      "bpe_model_trainer.cc(268) LOG(INFO) Added: freq=0 size=2480 all=1454 active=921 piece=ासं\n",
      "bpe_model_trainer.cc(268) LOG(INFO) Added: freq=0 size=2500 all=1434 active=901 piece=ीर्\n",
      "bpe_model_trainer.cc(159) LOG(INFO) Updating active symbols. max_freq=0 min_freq=0\n",
      "bpe_model_trainer.cc(268) LOG(INFO) Added: freq=0 size=2520 all=1414 active=981 piece=नाय\n",
      "bpe_model_trainer.cc(268) LOG(INFO) Added: freq=0 size=2540 all=1394 active=961 piece=ुकस\n",
      "bpe_model_trainer.cc(268) LOG(INFO) Added: freq=0 size=2560 all=1374 active=941 piece=ेला\n",
      "bpe_model_trainer.cc(268) LOG(INFO) Added: freq=0 size=2580 all=1354 active=921 piece=्यच\n",
      "bpe_model_trainer.cc(268) LOG(INFO) Added: freq=0 size=2600 all=1334 active=901 piece=्लो\n",
      "bpe_model_trainer.cc(159) LOG(INFO) Updating active symbols. max_freq=0 min_freq=0\n",
      "bpe_model_trainer.cc(268) LOG(INFO) Added: freq=0 size=2620 all=1314 active=981 piece=तुल\n",
      "bpe_model_trainer.cc(268) LOG(INFO) Added: freq=0 size=2640 all=1294 active=961 piece=्हड\n",
      "bpe_model_trainer.cc(268) LOG(INFO) Added: freq=0 size=2660 all=1274 active=941 piece=▁ऑफ\n",
      "bpe_model_trainer.cc(268) LOG(INFO) Added: freq=0 size=2680 all=1254 active=921 piece=▁गळ\n",
      "bpe_model_trainer.cc(268) LOG(INFO) Added: freq=0 size=2700 all=1234 active=901 piece=▁टे\n",
      "bpe_model_trainer.cc(159) LOG(INFO) Updating active symbols. max_freq=0 min_freq=0\n",
      "bpe_model_trainer.cc(268) LOG(INFO) Added: freq=0 size=2720 all=1214 active=981 piece=ायद\n",
      "bpe_model_trainer.cc(268) LOG(INFO) Added: freq=0 size=2740 all=1194 active=961 piece=▁धो\n",
      "bpe_model_trainer.cc(268) LOG(INFO) Added: freq=0 size=2760 all=1174 active=941 piece=▁बो\n",
      "bpe_model_trainer.cc(268) LOG(INFO) Added: freq=0 size=2780 all=1154 active=921 piece=▁रो\n",
      "bpe_model_trainer.cc(268) LOG(INFO) Added: freq=0 size=2800 all=1134 active=901 piece=▁सर\n",
      "bpe_model_trainer.cc(159) LOG(INFO) Updating active symbols. max_freq=0 min_freq=0\n",
      "bpe_model_trainer.cc(268) LOG(INFO) Added: freq=0 size=2820 all=1114 active=981 piece=वरस\n",
      "bpe_model_trainer.cc(268) LOG(INFO) Added: freq=0 size=2840 all=1094 active=961 piece=ंदान\n",
      "bpe_model_trainer.cc(268) LOG(INFO) Added: freq=0 size=2860 all=1074 active=941 piece=गांत\n",
      "bpe_model_trainer.cc(268) LOG(INFO) Added: freq=0 size=2880 all=1054 active=921 piece=ठतां\n",
      "bpe_model_trainer.cc(268) LOG(INFO) Added: freq=0 size=2900 all=1034 active=901 piece=ताल्\n",
      "bpe_model_trainer.cc(159) LOG(INFO) Updating active symbols. max_freq=0 min_freq=0\n",
      "bpe_model_trainer.cc(268) LOG(INFO) Added: freq=0 size=2920 all=1014 active=947 piece=ैली\n",
      "bpe_model_trainer.cc(268) LOG(INFO) Added: freq=0 size=2940 all=994 active=927 piece=पचार\n",
      "bpe_model_trainer.cc(268) LOG(INFO) Added: freq=0 size=2960 all=974 active=907 piece=रयता\n",
      "bpe_model_trainer.cc(268) LOG(INFO) Added: freq=0 size=2980 all=954 active=887 piece=वचें\n",
      "bpe_model_trainer.cc(268) LOG(INFO) Added: freq=0 size=3000 all=934 active=867 piece=हावा\n",
      "bpe_model_trainer.cc(159) LOG(INFO) Updating active symbols. max_freq=0 min_freq=0\n",
      "bpe_model_trainer.cc(268) LOG(INFO) Added: freq=0 size=3020 all=914 active=847 piece=ानिक\n",
      "bpe_model_trainer.cc(268) LOG(INFO) Added: freq=0 size=3040 all=894 active=827 piece=ाळ्य\n",
      "bpe_model_trainer.cc(268) LOG(INFO) Added: freq=0 size=3060 all=874 active=807 piece=िप्र\n",
      "bpe_model_trainer.cc(268) LOG(INFO) Added: freq=0 size=3080 all=854 active=787 piece=ेक्ष\n",
      "bpe_model_trainer.cc(268) LOG(INFO) Added: freq=0 size=3100 all=834 active=767 piece=ोटिक\n",
      "bpe_model_trainer.cc(159) LOG(INFO) Updating active symbols. max_freq=0 min_freq=0\n",
      "bpe_model_trainer.cc(268) LOG(INFO) Added: freq=0 size=3120 all=814 active=747 piece=्रास\n",
      "bpe_model_trainer.cc(268) LOG(INFO) Added: freq=0 size=3140 all=794 active=727 piece=▁अस्\n",
      "bpe_model_trainer.cc(268) LOG(INFO) Added: freq=0 size=3160 all=774 active=707 piece=▁कमत\n",
      "bpe_model_trainer.cc(268) LOG(INFO) Added: freq=0 size=3180 all=754 active=687 piece=▁गप्\n",
      "bpe_model_trainer.cc(268) LOG(INFO) Added: freq=0 size=3200 all=734 active=667 piece=▁जाय\n",
      "bpe_model_trainer.cc(159) LOG(INFO) Updating active symbols. max_freq=0 min_freq=0\n",
      "bpe_model_trainer.cc(268) LOG(INFO) Added: freq=0 size=3220 all=714 active=647 piece=▁निद\n",
      "bpe_model_trainer.cc(268) LOG(INFO) Added: freq=0 size=3240 all=694 active=627 piece=▁बहु\n",
      "bpe_model_trainer.cc(268) LOG(INFO) Added: freq=0 size=3260 all=674 active=607 piece=▁रात\n",
      "bpe_model_trainer.cc(268) LOG(INFO) Added: freq=0 size=3280 all=654 active=587 piece=▁शां\n",
      "bpe_model_trainer.cc(268) LOG(INFO) Added: freq=0 size=3300 all=634 active=567 piece=▁होत\n",
      "bpe_model_trainer.cc(159) LOG(INFO) Updating active symbols. max_freq=0 min_freq=0\n",
      "bpe_model_trainer.cc(268) LOG(INFO) Added: freq=0 size=3320 all=614 active=547 piece=छत्री\n",
      "bpe_model_trainer.cc(268) LOG(INFO) Added: freq=0 size=3340 all=594 active=527 piece=पासणी\n",
      "bpe_model_trainer.cc(268) LOG(INFO) Added: freq=0 size=3360 all=574 active=507 piece=रुस्त\n",
      "bpe_model_trainer.cc(268) LOG(INFO) Added: freq=0 size=3380 all=554 active=487 piece=स्कार\n",
      "bpe_model_trainer.cc(268) LOG(INFO) Added: freq=0 size=3400 all=534 active=467 piece=ाराची\n",
      "bpe_model_trainer.cc(159) LOG(INFO) Updating active symbols. max_freq=0 min_freq=0\n",
      "bpe_model_trainer.cc(268) LOG(INFO) Added: freq=0 size=3420 all=514 active=447 piece=ेजस्व\n",
      "bpe_model_trainer.cc(268) LOG(INFO) Added: freq=0 size=3440 all=494 active=427 piece=्याती\n",
      "bpe_model_trainer.cc(268) LOG(INFO) Added: freq=0 size=3460 all=474 active=407 piece=▁अतिर\n",
      "bpe_model_trainer.cc(268) LOG(INFO) Added: freq=0 size=3480 all=454 active=387 piece=▁कॅन्\n",
      "bpe_model_trainer.cc(268) LOG(INFO) Added: freq=0 size=3500 all=434 active=367 piece=▁दोस्\n",
      "bpe_model_trainer.cc(159) LOG(INFO) Updating active symbols. max_freq=0 min_freq=0\n",
      "bpe_model_trainer.cc(268) LOG(INFO) Added: freq=0 size=3520 all=414 active=347 piece=▁मद्य\n",
      "bpe_model_trainer.cc(268) LOG(INFO) Added: freq=0 size=3540 all=394 active=327 piece=▁संकल\n",
      "bpe_model_trainer.cc(268) LOG(INFO) Added: freq=0 size=3560 all=374 active=307 piece=जाच्या\n",
      "bpe_model_trainer.cc(268) LOG(INFO) Added: freq=0 size=3580 all=354 active=287 piece=र्घकाळ\n",
      "bpe_model_trainer.cc(268) LOG(INFO) Added: freq=0 size=3600 all=334 active=267 piece=ाराचें\n",
      "bpe_model_trainer.cc(159) LOG(INFO) Updating active symbols. max_freq=0 min_freq=0\n",
      "bpe_model_trainer.cc(268) LOG(INFO) Added: freq=0 size=3620 all=314 active=247 piece=ोकदुखी\n",
      "bpe_model_trainer.cc(268) LOG(INFO) Added: freq=0 size=3640 all=294 active=227 piece=▁खाणाम\n",
      "bpe_model_trainer.cc(268) LOG(INFO) Added: freq=0 size=3660 all=274 active=207 piece=▁नखत्र\n",
      "bpe_model_trainer.cc(268) LOG(INFO) Added: freq=0 size=3680 all=254 active=187 piece=▁विचार\n",
      "bpe_model_trainer.cc(268) LOG(INFO) Added: freq=0 size=3700 all=234 active=167 piece=ंफेक्शन\n",
      "bpe_model_trainer.cc(159) LOG(INFO) Updating active symbols. max_freq=0 min_freq=0\n",
      "bpe_model_trainer.cc(268) LOG(INFO) Added: freq=0 size=3720 all=214 active=147 piece=ानाच्या\n",
      "bpe_model_trainer.cc(268) LOG(INFO) Added: freq=0 size=3740 all=194 active=127 piece=्यासाठी\n",
      "bpe_model_trainer.cc(268) LOG(INFO) Added: freq=0 size=3760 all=174 active=107 piece=▁त्वचार\n",
      "bpe_model_trainer.cc(268) LOG(INFO) Added: freq=0 size=3780 all=154 active=87 piece=▁श्वासो\n",
      "bpe_model_trainer.cc(268) LOG(INFO) Added: freq=0 size=3800 all=134 active=67 piece=ॉक्टराचो\n",
      "bpe_model_trainer.cc(159) LOG(INFO) Updating active symbols. max_freq=0 min_freq=0\n",
      "bpe_model_trainer.cc(268) LOG(INFO) Added: freq=0 size=3820 all=114 active=47 piece=▁रक्तप्र\n",
      "bpe_model_trainer.cc(268) LOG(INFO) Added: freq=0 size=3840 all=94 active=27 piece=▁इंफेक्शन\n",
      "bpe_model_trainer.cc(268) LOG(INFO) Added: freq=0 size=3860 all=74 active=7 piece=▁श्वासोच्छ\n",
      "trainer_interface.cc(687) LOG(INFO) Saving model: ./model/konkani_tokenizer.model\n",
      "trainer_interface.cc(699) LOG(INFO) Saving vocabs: ./model/konkani_tokenizer.vocab\n"
     ]
    }
   ],
   "source": [
    "import sentencepiece as spm\n",
    "\n",
    "spm.SentencePieceTrainer.train(\n",
    "    input=\"./data/kon.txt\",\n",
    "    model_prefix=\"./model/konkani_tokenizer\",\n",
    "    vocab_size=3940,\n",
    "    model_type=\"bpe\",  # Can be 'unigram', 'word', or 'char'\n",
    "    character_coverage=1.0,  # Sanskrit has a small alphabet, so full coverage\n",
    "    user_defined_symbols=special_tokens,\n",
    "    # max_sentence_length=30\n",
    ")"
   ]
  },
  {
   "cell_type": "code",
   "execution_count": null,
   "metadata": {},
   "outputs": [
    {
     "name": "stdout",
     "output_type": "stream",
     "text": [
      "[19922, 7, 1594, 7310, 19940, 127, 63, 773, 18520, 98, 157, 123, 907, 8677, 107, 19941]\n"
     ]
    }
   ],
   "source": [
    "sp = spm.SentencePieceProcessor()\n",
    "sp.load(\"./model/sanskrit_tokenizer.model\")\n",
    "\n",
    "sentence = \"<hi2> कर्मण्येवाधिकारस्ते मा फलेषु कदाचन।\"\n",
    "tokens = sp.encode(sentence, out_type=int)\n",
    "\n",
    "print(tokens)  # Tokenized Sanskrit sentence"
   ]
  },
  {
   "cell_type": "code",
   "execution_count": 38,
   "metadata": {},
   "outputs": [],
   "source": [
    "def hello(x):\n",
    "    print(x,\"this is x\")\n",
    "    return len(x)"
   ]
  },
  {
   "cell_type": "code",
   "execution_count": 40,
   "metadata": {},
   "outputs": [],
   "source": [
    "import numpy as np\n",
    "hehe = sp.tokenize([*df['sa'][:]])\n",
    "# len(hehe)\n",
    "a = max(hehe,key=lambda x:len(x))"
   ]
  },
  {
   "cell_type": "code",
   "execution_count": 43,
   "metadata": {},
   "outputs": [
    {
     "data": {
      "text/plain": [
       "169"
      ]
     },
     "execution_count": 43,
     "metadata": {},
     "output_type": "execute_result"
    }
   ],
   "source": [
    "len(a)"
   ]
  },
  {
   "cell_type": "code",
   "execution_count": 49,
   "metadata": {},
   "outputs": [
    {
     "data": {
      "text/plain": [
       "'[PAD]'"
      ]
     },
     "execution_count": 49,
     "metadata": {},
     "output_type": "execute_result"
    }
   ],
   "source": [
    "sp.decode_ids(5)"
   ]
  },
  {
   "cell_type": "code",
   "execution_count": 151,
   "metadata": {},
   "outputs": [
    {
     "data": {
      "text/plain": [
       "'<hi2> कर्मण्येवाधिकारस्ते मा फलेषु कदाचन।'"
      ]
     },
     "execution_count": 151,
     "metadata": {},
     "output_type": "execute_result"
    }
   ],
   "source": [
    "sp.decode(\n",
    "    [\n",
    "        19922,\n",
    "        7,\n",
    "        1594,\n",
    "        7310,\n",
    "        19940,\n",
    "        127,\n",
    "        63,\n",
    "        773,\n",
    "        18520,\n",
    "        98,\n",
    "        157,\n",
    "        123,\n",
    "        907,\n",
    "        8677,\n",
    "        107,\n",
    "        19941,\n",
    "    ]\n",
    ")"
   ]
  },
  {
   "cell_type": "code",
   "execution_count": 50,
   "metadata": {},
   "outputs": [],
   "source": [
    "spm.SentencePieceTrainer.train(\n",
    "    input=\"./data/hindi.txt\",\n",
    "    model_prefix=\"./model/hindi_tokenizer\",\n",
    "    vocab_size=20000,\n",
    "    model_type=\"bpe\",  # Can be 'unigram', 'word', or 'char'\n",
    "    character_coverage=1.0,  # Sanskrit has a small alphabet, so full coverage\n",
    "    user_defined_symbols=special_tokens\n",
    ")"
   ]
  },
  {
   "cell_type": "code",
   "execution_count": 51,
   "metadata": {},
   "outputs": [
    {
     "data": {
      "text/plain": [
       "'[start] तब यीशु शैतान की परीक्षा के लिए जंगल में आत्मा की अगुवाई कर रहा था। [end]'"
      ]
     },
     "execution_count": 51,
     "metadata": {},
     "output_type": "execute_result"
    }
   ],
   "source": [
    "df[\"hi\"][90]"
   ]
  },
  {
   "cell_type": "code",
   "execution_count": 157,
   "metadata": {},
   "outputs": [
    {
     "name": "stdout",
     "output_type": "stream",
     "text": [
      "[19877, 3, 205, 1971, 6742, 48, 4010, 20, 146, 1613, 41, 2392, 48, 10199, 42, 388, 246, 19906, 19877, 4]\n"
     ]
    }
   ],
   "source": [
    "sp = spm.SentencePieceProcessor()\n",
    "sp.load(\"./model/hindi_tokenizer.model\")\n",
    "\n",
    "sentence = \"<hi2> कर्मण्येवाधिकारस्ते मा फलेषु कदाचन।\"\n",
    "tokens = sp.encode(df[\"hi\"][90], out_type=int)\n",
    "\n",
    "print(tokens)"
   ]
  },
  {
   "cell_type": "code",
   "execution_count": 158,
   "metadata": {},
   "outputs": [
    {
     "data": {
      "text/plain": [
       "'[start] तब यीशु शैतान की परीक्षा के लिए जंगल में आत्मा की अगुवाई कर रहा था। [end]'"
      ]
     },
     "execution_count": 158,
     "metadata": {},
     "output_type": "execute_result"
    }
   ],
   "source": [
    "sp.decode(\n",
    "    [\n",
    "        19877,\n",
    "        3,\n",
    "        205,\n",
    "        1971,\n",
    "        6742,\n",
    "        48,\n",
    "        4010,\n",
    "        20,\n",
    "        146,\n",
    "        1613,\n",
    "        41,\n",
    "        2392,\n",
    "        48,\n",
    "        10199,\n",
    "        42,\n",
    "        388,\n",
    "        246,\n",
    "        19906,\n",
    "        19877,\n",
    "        4,\n",
    "    ]\n",
    ")"
   ]
  },
  {
   "cell_type": "code",
   "execution_count": 161,
   "metadata": {},
   "outputs": [
    {
     "data": {
      "text/plain": [
       "'[start]'"
      ]
     },
     "execution_count": 161,
     "metadata": {},
     "output_type": "execute_result"
    }
   ],
   "source": [
    "sp.decode_ids(3)"
   ]
  }
 ],
 "metadata": {
  "kernelspec": {
   "display_name": ".venv",
   "language": "python",
   "name": "python3"
  },
  "language_info": {
   "codemirror_mode": {
    "name": "ipython",
    "version": 3
   },
   "file_extension": ".py",
   "mimetype": "text/x-python",
   "name": "python",
   "nbconvert_exporter": "python",
   "pygments_lexer": "ipython3",
   "version": "3.11.2"
  }
 },
 "nbformat": 4,
 "nbformat_minor": 2
}
