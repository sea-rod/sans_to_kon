{
 "cells": [
  {
   "cell_type": "code",
   "execution_count": 3,
   "metadata": {},
   "outputs": [],
   "source": [
    "import pandas as pd"
   ]
  },
  {
   "cell_type": "code",
   "execution_count": 52,
   "metadata": {},
   "outputs": [],
   "source": [
    "def preprocess(file1,file2,op=None):\n",
    "    f1 =  open(file1,\"r\",encoding=\"utf-8\")\n",
    "    f2 =  open(file2,\"r\",encoding=\"utf-8\")\n",
    "    df = pd.DataFrame(columns=[\"sa\",\"hi\"])\n",
    "    c = 0\n",
    "    for hi,sa in zip(f1.readlines(),f2.readlines()):\n",
    "        sa = sa.strip(\"\\n\")\n",
    "        hi = hi.strip(\"\\n\")\n",
    "        df.loc[c] = [f\"<hi2> {sa}\",f\"[start] {hi} [end]\"]\n",
    "        c += 1\n",
    "    return df\n"
   ]
  },
  {
   "cell_type": "code",
   "execution_count": 53,
   "metadata": {},
   "outputs": [
    {
     "data": {
      "text/html": [
       "<div>\n",
       "<style scoped>\n",
       "    .dataframe tbody tr th:only-of-type {\n",
       "        vertical-align: middle;\n",
       "    }\n",
       "\n",
       "    .dataframe tbody tr th {\n",
       "        vertical-align: top;\n",
       "    }\n",
       "\n",
       "    .dataframe thead th {\n",
       "        text-align: right;\n",
       "    }\n",
       "</style>\n",
       "<table border=\"1\" class=\"dataframe\">\n",
       "  <thead>\n",
       "    <tr style=\"text-align: right;\">\n",
       "      <th></th>\n",
       "      <th>sa</th>\n",
       "      <th>hi</th>\n",
       "    </tr>\n",
       "  </thead>\n",
       "  <tbody>\n",
       "    <tr>\n",
       "      <th>0</th>\n",
       "      <td>&lt;hi2&gt; उद वाचमीरयति हिन्वते मती पुरुष्टुतस्य कत...</td>\n",
       "      <td>[start] उन्होंने अपनी आवाज़ और अपने कई प्यारे ...</td>\n",
       "    </tr>\n",
       "    <tr>\n",
       "      <th>1</th>\n",
       "      <td>&lt;hi2&gt; तव देव प्रसादाच्च भ्रातुश्च जयतां वर। कृ...</td>\n",
       "      <td>[start] 'हे विजयी स्वामी वह जो आपकी सहायता से ...</td>\n",
       "    </tr>\n",
       "    <tr>\n",
       "      <th>2</th>\n",
       "      <td>&lt;hi2&gt; ये नाकस्याधि रोचने दिवि देवास आसते|</td>\n",
       "      <td>[start] जो आकाश के ऊपर स्वर्ग में देवताओं के र...</td>\n",
       "    </tr>\n",
       "    <tr>\n",
       "      <th>3</th>\n",
       "      <td>&lt;hi2&gt; यथैव धेनु स्स्रवति स्नेहाद्वत्सस्य वत्सल...</td>\n",
       "      <td>[start] “जिस प्रकार अपने बछड़े की गाय पालने वा...</td>\n",
       "    </tr>\n",
       "    <tr>\n",
       "      <th>4</th>\n",
       "      <td>&lt;hi2&gt; क्षिप्रं भवति धर्मात्मा शश्वच्छान्तिं नि...</td>\n",
       "      <td>[start]  जल्दी से वह धर्मी (दिमाग वाला) हो जात...</td>\n",
       "    </tr>\n",
       "  </tbody>\n",
       "</table>\n",
       "</div>"
      ],
      "text/plain": [
       "                                                  sa  \\\n",
       "0  <hi2> उद वाचमीरयति हिन्वते मती पुरुष्टुतस्य कत...   \n",
       "1  <hi2> तव देव प्रसादाच्च भ्रातुश्च जयतां वर। कृ...   \n",
       "2          <hi2> ये नाकस्याधि रोचने दिवि देवास आसते|   \n",
       "3  <hi2> यथैव धेनु स्स्रवति स्नेहाद्वत्सस्य वत्सल...   \n",
       "4  <hi2> क्षिप्रं भवति धर्मात्मा शश्वच्छान्तिं नि...   \n",
       "\n",
       "                                                  hi  \n",
       "0  [start] उन्होंने अपनी आवाज़ और अपने कई प्यारे ...  \n",
       "1  [start] 'हे विजयी स्वामी वह जो आपकी सहायता से ...  \n",
       "2  [start] जो आकाश के ऊपर स्वर्ग में देवताओं के र...  \n",
       "3  [start] “जिस प्रकार अपने बछड़े की गाय पालने वा...  \n",
       "4  [start]  जल्दी से वह धर्मी (दिमाग वाला) हो जात...  "
      ]
     },
     "execution_count": 53,
     "metadata": {},
     "output_type": "execute_result"
    }
   ],
   "source": [
    "df = preprocess(\"./data/test_hindi.hi\",\"./data/test_sanskrit.sa\")\n",
    "df.head()"
   ]
  },
  {
   "cell_type": "code",
   "execution_count": 56,
   "metadata": {},
   "outputs": [
    {
     "name": "stderr",
     "output_type": "stream",
     "text": [
      "/tmp/ipykernel_2871/2900375399.py:1: FutureWarning: Series.__getitem__ treating keys as positions is deprecated. In a future version, integer keys will always be treated as labels (consistent with DataFrame behavior). To access a value by position, use `ser.iloc[pos]`\n",
      "  df.iloc[0][0]\n"
     ]
    },
    {
     "data": {
      "text/plain": [
       "'<hi2> उद वाचमीरयति हिन्वते मती पुरुष्टुतस्य कति चित्परिप्रियः|'"
      ]
     },
     "execution_count": 56,
     "metadata": {},
     "output_type": "execute_result"
    }
   ],
   "source": [
    "df.iloc[0][0]"
   ]
  },
  {
   "cell_type": "code",
   "execution_count": 76,
   "metadata": {},
   "outputs": [
    {
     "data": {
      "text/html": [
       "<div>\n",
       "<style scoped>\n",
       "    .dataframe tbody tr th:only-of-type {\n",
       "        vertical-align: middle;\n",
       "    }\n",
       "\n",
       "    .dataframe tbody tr th {\n",
       "        vertical-align: top;\n",
       "    }\n",
       "\n",
       "    .dataframe thead th {\n",
       "        text-align: right;\n",
       "    }\n",
       "</style>\n",
       "<table border=\"1\" class=\"dataframe\">\n",
       "  <thead>\n",
       "    <tr style=\"text-align: right;\">\n",
       "      <th></th>\n",
       "      <th>sa</th>\n",
       "      <th>hi</th>\n",
       "    </tr>\n",
       "  </thead>\n",
       "  <tbody>\n",
       "    <tr>\n",
       "      <th>1369</th>\n",
       "      <td>&lt;hi2&gt; तिग्मायुधः कषिप्रधन्वा समत्स्वषाळ्हः साह...</td>\n",
       "      <td>[start] तेज धनुष के साथ धारदार हथियार के साथ क...</td>\n",
       "    </tr>\n",
       "    <tr>\n",
       "      <th>1370</th>\n",
       "      <td>&lt;hi2&gt; तेभ्यः स्वाधीनतां प्रतिज्ञाय स्वयं विनाश...</td>\n",
       "      <td>[start] जबकि वे उन्हें स्वतंत्रता का वादा करते...</td>\n",
       "    </tr>\n",
       "    <tr>\n",
       "      <th>1371</th>\n",
       "      <td>&lt;hi2&gt; पवस्व गोजिदश्वजिद विश्वजित सोम रण्यजित|\\n</td>\n",
       "      <td>[start] आगे की ओर बहने वाले परिजन और स्टीड जीत...</td>\n",
       "    </tr>\n",
       "    <tr>\n",
       "      <th>1372</th>\n",
       "      <td>&lt;hi2&gt; अराणां न चरमस्तदेषां दाना मह्ना तदेषाम|\\n</td>\n",
       "      <td>[start] इन तेज गर्जनाओं में से कोई भी अंतिम नह...</td>\n",
       "    </tr>\n",
       "    <tr>\n",
       "      <th>1373</th>\n",
       "      <td>&lt;hi2&gt; ततः परं स पर्व्वतमारुह्येश्वरमुद्दिश्य प...</td>\n",
       "      <td>[start] और यह उन दिनों में पारित करने के लिए आ...</td>\n",
       "    </tr>\n",
       "  </tbody>\n",
       "</table>\n",
       "</div>"
      ],
      "text/plain": [
       "                                                     sa  \\\n",
       "1369  <hi2> तिग्मायुधः कषिप्रधन्वा समत्स्वषाळ्हः साह...   \n",
       "1370  <hi2> तेभ्यः स्वाधीनतां प्रतिज्ञाय स्वयं विनाश...   \n",
       "1371    <hi2> पवस्व गोजिदश्वजिद विश्वजित सोम रण्यजित|\\n   \n",
       "1372    <hi2> अराणां न चरमस्तदेषां दाना मह्ना तदेषाम|\\n   \n",
       "1373  <hi2> ततः परं स पर्व्वतमारुह्येश्वरमुद्दिश्य प...   \n",
       "\n",
       "                                                     hi  \n",
       "1369  [start] तेज धनुष के साथ धारदार हथियार के साथ क...  \n",
       "1370  [start] जबकि वे उन्हें स्वतंत्रता का वादा करते...  \n",
       "1371  [start] आगे की ओर बहने वाले परिजन और स्टीड जीत...  \n",
       "1372  [start] इन तेज गर्जनाओं में से कोई भी अंतिम नह...  \n",
       "1373  [start] और यह उन दिनों में पारित करने के लिए आ...  "
      ]
     },
     "execution_count": 76,
     "metadata": {},
     "output_type": "execute_result"
    }
   ],
   "source": [
    "df.tail()"
   ]
  },
  {
   "cell_type": "code",
   "execution_count": 57,
   "metadata": {},
   "outputs": [],
   "source": [
    "df1 = preprocess(\"./data/hindi_parallel_aligned.hi\",\"./data/sanskrit_parallel_aligned.sa\")"
   ]
  },
  {
   "cell_type": "code",
   "execution_count": 58,
   "metadata": {},
   "outputs": [
    {
     "data": {
      "text/html": [
       "<div>\n",
       "<style scoped>\n",
       "    .dataframe tbody tr th:only-of-type {\n",
       "        vertical-align: middle;\n",
       "    }\n",
       "\n",
       "    .dataframe tbody tr th {\n",
       "        vertical-align: top;\n",
       "    }\n",
       "\n",
       "    .dataframe thead th {\n",
       "        text-align: right;\n",
       "    }\n",
       "</style>\n",
       "<table border=\"1\" class=\"dataframe\">\n",
       "  <thead>\n",
       "    <tr style=\"text-align: right;\">\n",
       "      <th></th>\n",
       "      <th>sa</th>\n",
       "      <th>hi</th>\n",
       "    </tr>\n",
       "  </thead>\n",
       "  <tbody>\n",
       "    <tr>\n",
       "      <th>0</th>\n",
       "      <td>&lt;hi2&gt; वर्णानामर्थसंघानां रसानां छन्दसामपि। मंग...</td>\n",
       "      <td>[start] अक्षरों, अर्थ समूहों, रसों, छन्दों और ...</td>\n",
       "    </tr>\n",
       "    <tr>\n",
       "      <th>1</th>\n",
       "      <td>&lt;hi2&gt; भवानीशंकरौ वन्दे श्रद्धाविश्वासरूपिणौ। य...</td>\n",
       "      <td>[start] श्रद्धा और विश्वास के स्वरूप श्री पार्...</td>\n",
       "    </tr>\n",
       "    <tr>\n",
       "      <th>2</th>\n",
       "      <td>&lt;hi2&gt; वन्दे बोधमयं नित्यं गुरुं शंकररूपिणम्‌। ...</td>\n",
       "      <td>[start] ज्ञानमय, नित्य, शंकर रूपी गुरु की मैं ...</td>\n",
       "    </tr>\n",
       "    <tr>\n",
       "      <th>3</th>\n",
       "      <td>&lt;hi2&gt; सीतारामगुणग्रामपुण्यारण्यविहारिणौ। वन्दे...</td>\n",
       "      <td>[start] श्री सीतारामजी के गुणसमूह रूपी पवित्र ...</td>\n",
       "    </tr>\n",
       "    <tr>\n",
       "      <th>4</th>\n",
       "      <td>&lt;hi2&gt; उद्भवस्थितिसंहारकारिणीं क्लेशहारिणीम्‌। ...</td>\n",
       "      <td>[start] उत्पत्ति, स्थिति  और संहार करने वाली, ...</td>\n",
       "    </tr>\n",
       "  </tbody>\n",
       "</table>\n",
       "</div>"
      ],
      "text/plain": [
       "                                                  sa  \\\n",
       "0  <hi2> वर्णानामर्थसंघानां रसानां छन्दसामपि। मंग...   \n",
       "1  <hi2> भवानीशंकरौ वन्दे श्रद्धाविश्वासरूपिणौ। य...   \n",
       "2  <hi2> वन्दे बोधमयं नित्यं गुरुं शंकररूपिणम्‌। ...   \n",
       "3  <hi2> सीतारामगुणग्रामपुण्यारण्यविहारिणौ। वन्दे...   \n",
       "4  <hi2> उद्भवस्थितिसंहारकारिणीं क्लेशहारिणीम्‌। ...   \n",
       "\n",
       "                                                  hi  \n",
       "0  [start] अक्षरों, अर्थ समूहों, रसों, छन्दों और ...  \n",
       "1  [start] श्रद्धा और विश्वास के स्वरूप श्री पार्...  \n",
       "2  [start] ज्ञानमय, नित्य, शंकर रूपी गुरु की मैं ...  \n",
       "3  [start] श्री सीतारामजी के गुणसमूह रूपी पवित्र ...  \n",
       "4  [start] उत्पत्ति, स्थिति  और संहार करने वाली, ...  "
      ]
     },
     "execution_count": 58,
     "metadata": {},
     "output_type": "execute_result"
    }
   ],
   "source": [
    "df1.head()"
   ]
  },
  {
   "cell_type": "code",
   "execution_count": 61,
   "metadata": {},
   "outputs": [
    {
     "data": {
      "text/plain": [
       "'<hi2> वर्णानामर्थसंघानां रसानां छन्दसामपि। मंगलानां च कर्त्तारौ वन्दे वाणीविनायकौ॥1॥'"
      ]
     },
     "execution_count": 61,
     "metadata": {},
     "output_type": "execute_result"
    }
   ],
   "source": [
    "df1.iloc[0,0]"
   ]
  },
  {
   "cell_type": "code",
   "execution_count": 117,
   "metadata": {},
   "outputs": [
    {
     "data": {
      "text/html": [
       "<div>\n",
       "<style scoped>\n",
       "    .dataframe tbody tr th:only-of-type {\n",
       "        vertical-align: middle;\n",
       "    }\n",
       "\n",
       "    .dataframe tbody tr th {\n",
       "        vertical-align: top;\n",
       "    }\n",
       "\n",
       "    .dataframe thead th {\n",
       "        text-align: right;\n",
       "    }\n",
       "</style>\n",
       "<table border=\"1\" class=\"dataframe\">\n",
       "  <thead>\n",
       "    <tr style=\"text-align: right;\">\n",
       "      <th></th>\n",
       "      <th>sa</th>\n",
       "      <th>hi</th>\n",
       "    </tr>\n",
       "  </thead>\n",
       "  <tbody>\n",
       "    <tr>\n",
       "      <th>5957</th>\n",
       "      <td>&lt;hi2&gt; सुंदर सुजान कृपा निधान अनाथ पर कर प्रीति...</td>\n",
       "      <td>[start] सुंदर, सुजान और कृपानिधान तथा जो अनाथो...</td>\n",
       "    </tr>\n",
       "    <tr>\n",
       "      <th>5958</th>\n",
       "      <td>&lt;hi2&gt; मो सम दीन न दीन हित तुम्ह समान रघुबीर। अ...</td>\n",
       "      <td>[start] हे श्री रघुवीर! मेरे समान कोई दीन नहीं...</td>\n",
       "    </tr>\n",
       "    <tr>\n",
       "      <th>5959</th>\n",
       "      <td>&lt;hi2&gt; कामिहि नारि पिआरि जिमि लोभिहि प्रिय जिमि...</td>\n",
       "      <td>[start] जैसे कामी को स्त्री प्रिय लगती है और ल...</td>\n",
       "    </tr>\n",
       "    <tr>\n",
       "      <th>5960</th>\n",
       "      <td>&lt;hi2&gt; यत्पूर्वं प्रभुणा कृतं सुकविना श्रीशम्भु...</td>\n",
       "      <td>[start] श्रेष्ठ कवि भगवान्‌ श्री शंकरजी ने पहल...</td>\n",
       "    </tr>\n",
       "    <tr>\n",
       "      <th>5961</th>\n",
       "      <td>&lt;hi2&gt; पुण्यं पापहरं सदा शिवकरं विज्ञानभक्तिप्र...</td>\n",
       "      <td>[start] यह श्री रामचरित मानस पुण्य रूप, पापों ...</td>\n",
       "    </tr>\n",
       "  </tbody>\n",
       "</table>\n",
       "</div>"
      ],
      "text/plain": [
       "                                                     sa  \\\n",
       "5957  <hi2> सुंदर सुजान कृपा निधान अनाथ पर कर प्रीति...   \n",
       "5958  <hi2> मो सम दीन न दीन हित तुम्ह समान रघुबीर। अ...   \n",
       "5959  <hi2> कामिहि नारि पिआरि जिमि लोभिहि प्रिय जिमि...   \n",
       "5960  <hi2> यत्पूर्वं प्रभुणा कृतं सुकविना श्रीशम्भु...   \n",
       "5961  <hi2> पुण्यं पापहरं सदा शिवकरं विज्ञानभक्तिप्र...   \n",
       "\n",
       "                                                     hi  \n",
       "5957  [start] सुंदर, सुजान और कृपानिधान तथा जो अनाथो...  \n",
       "5958  [start] हे श्री रघुवीर! मेरे समान कोई दीन नहीं...  \n",
       "5959  [start] जैसे कामी को स्त्री प्रिय लगती है और ल...  \n",
       "5960  [start] श्रेष्ठ कवि भगवान्‌ श्री शंकरजी ने पहल...  \n",
       "5961  [start] यह श्री रामचरित मानस पुण्य रूप, पापों ...  "
      ]
     },
     "execution_count": 117,
     "metadata": {},
     "output_type": "execute_result"
    }
   ],
   "source": [
    "df1.tail()"
   ]
  },
  {
   "cell_type": "code",
   "execution_count": 118,
   "metadata": {},
   "outputs": [
    {
     "data": {
      "text/plain": [
       "644226"
      ]
     },
     "execution_count": 118,
     "metadata": {},
     "output_type": "execute_result"
    }
   ],
   "source": [
    "file = open(\"./data/sankrit.txt\", \"w\")\n",
    "\n",
    "file.write(\"\\n\".join(df1[\"sa\"]))"
   ]
  },
  {
   "cell_type": "code",
   "execution_count": 62,
   "metadata": {},
   "outputs": [],
   "source": [
    "df = pd.concat([df,df1],axis=0,ignore_index=True)"
   ]
  },
  {
   "cell_type": "code",
   "execution_count": 63,
   "metadata": {},
   "outputs": [
    {
     "data": {
      "text/plain": [
       "7336"
      ]
     },
     "execution_count": 63,
     "metadata": {},
     "output_type": "execute_result"
    }
   ],
   "source": [
    "len(df)"
   ]
  },
  {
   "cell_type": "code",
   "execution_count": 97,
   "metadata": {},
   "outputs": [
    {
     "data": {
      "text/html": [
       "<div>\n",
       "<style scoped>\n",
       "    .dataframe tbody tr th:only-of-type {\n",
       "        vertical-align: middle;\n",
       "    }\n",
       "\n",
       "    .dataframe tbody tr th {\n",
       "        vertical-align: top;\n",
       "    }\n",
       "\n",
       "    .dataframe thead th {\n",
       "        text-align: right;\n",
       "    }\n",
       "</style>\n",
       "<table border=\"1\" class=\"dataframe\">\n",
       "  <thead>\n",
       "    <tr style=\"text-align: right;\">\n",
       "      <th></th>\n",
       "      <th>sa</th>\n",
       "      <th>hi</th>\n",
       "    </tr>\n",
       "  </thead>\n",
       "  <tbody>\n",
       "    <tr>\n",
       "      <th>0</th>\n",
       "      <td>&lt;hi2&gt; उद वाचमीरयति हिन्वते मती पुरुष्टुतस्य कत...</td>\n",
       "      <td>[start] उन्होंने अपनी आवाज़ और अपने कई प्यारे ...</td>\n",
       "    </tr>\n",
       "    <tr>\n",
       "      <th>1</th>\n",
       "      <td>&lt;hi2&gt; तव देव प्रसादाच्च भ्रातुश्च जयतां वर। कृ...</td>\n",
       "      <td>[start] 'हे विजयी स्वामी वह जो आपकी सहायता से ...</td>\n",
       "    </tr>\n",
       "    <tr>\n",
       "      <th>2</th>\n",
       "      <td>&lt;hi2&gt; ये नाकस्याधि रोचने दिवि देवास आसते|</td>\n",
       "      <td>[start] जो आकाश के ऊपर स्वर्ग में देवताओं के र...</td>\n",
       "    </tr>\n",
       "    <tr>\n",
       "      <th>3</th>\n",
       "      <td>&lt;hi2&gt; यथैव धेनु स्स्रवति स्नेहाद्वत्सस्य वत्सल...</td>\n",
       "      <td>[start] “जिस प्रकार अपने बछड़े की गाय पालने वा...</td>\n",
       "    </tr>\n",
       "    <tr>\n",
       "      <th>4</th>\n",
       "      <td>&lt;hi2&gt; क्षिप्रं भवति धर्मात्मा शश्वच्छान्तिं नि...</td>\n",
       "      <td>[start]  जल्दी से वह धर्मी (दिमाग वाला) हो जात...</td>\n",
       "    </tr>\n",
       "  </tbody>\n",
       "</table>\n",
       "</div>"
      ],
      "text/plain": [
       "                                                  sa  \\\n",
       "0  <hi2> उद वाचमीरयति हिन्वते मती पुरुष्टुतस्य कत...   \n",
       "1  <hi2> तव देव प्रसादाच्च भ्रातुश्च जयतां वर। कृ...   \n",
       "2          <hi2> ये नाकस्याधि रोचने दिवि देवास आसते|   \n",
       "3  <hi2> यथैव धेनु स्स्रवति स्नेहाद्वत्सस्य वत्सल...   \n",
       "4  <hi2> क्षिप्रं भवति धर्मात्मा शश्वच्छान्तिं नि...   \n",
       "\n",
       "                                                  hi  \n",
       "0  [start] उन्होंने अपनी आवाज़ और अपने कई प्यारे ...  \n",
       "1  [start] 'हे विजयी स्वामी वह जो आपकी सहायता से ...  \n",
       "2  [start] जो आकाश के ऊपर स्वर्ग में देवताओं के र...  \n",
       "3  [start] “जिस प्रकार अपने बछड़े की गाय पालने वा...  \n",
       "4  [start]  जल्दी से वह धर्मी (दिमाग वाला) हो जात...  "
      ]
     },
     "execution_count": 97,
     "metadata": {},
     "output_type": "execute_result"
    }
   ],
   "source": [
    "df.head()"
   ]
  },
  {
   "cell_type": "code",
   "execution_count": 64,
   "metadata": {},
   "outputs": [],
   "source": [
    "df.to_pickle(\"./data/sa_to_hi.pkl\")"
   ]
  },
  {
   "cell_type": "code",
   "execution_count": 131,
   "metadata": {},
   "outputs": [
    {
     "data": {
      "text/plain": [
       "1273865"
      ]
     },
     "execution_count": 131,
     "metadata": {},
     "output_type": "execute_result"
    }
   ],
   "source": [
    "file = open(\"./data/hindi.txt\",\"w\")\n",
    "\n",
    "file.write(\"\\n\".join(df[\"hi\"]))"
   ]
  },
  {
   "cell_type": "code",
   "execution_count": 101,
   "metadata": {},
   "outputs": [
    {
     "name": "stdout",
     "output_type": "stream",
     "text": [
      "['कर्मण्येवाधिकारस्ते', 'मा', 'फलेषु', 'कदाचन', '।']\n"
     ]
    }
   ],
   "source": [
    "from indicnlp.tokenize import indic_tokenize\n",
    "\n",
    "text = \"कर्मण्येवाधिकारस्ते मा फलेषु कदाचन।\"\n",
    "\n",
    "tokens = indic_tokenize.trivial_tokenize(\n",
    "    text, lang=\"hi\"\n",
    ")  # Sanskrit is close to Hindi tokenization\n",
    "print(tokens)"
   ]
  },
  {
   "cell_type": "code",
   "execution_count": 1,
   "metadata": {},
   "outputs": [],
   "source": [
    "import pandas as pd\n"
   ]
  },
  {
   "cell_type": "code",
   "execution_count": 12,
   "metadata": {},
   "outputs": [],
   "source": [
    "df = pd.read_excel(\"./sanskrit-konkani.xlsx\")"
   ]
  },
  {
   "cell_type": "code",
   "execution_count": 13,
   "metadata": {},
   "outputs": [
    {
     "data": {
      "text/html": [
       "<div>\n",
       "<style scoped>\n",
       "    .dataframe tbody tr th:only-of-type {\n",
       "        vertical-align: middle;\n",
       "    }\n",
       "\n",
       "    .dataframe tbody tr th {\n",
       "        vertical-align: top;\n",
       "    }\n",
       "\n",
       "    .dataframe thead th {\n",
       "        text-align: right;\n",
       "    }\n",
       "</style>\n",
       "<table border=\"1\" class=\"dataframe\">\n",
       "  <thead>\n",
       "    <tr style=\"text-align: right;\">\n",
       "      <th></th>\n",
       "      <th>sans_sent</th>\n",
       "      <th>kon_sent</th>\n",
       "    </tr>\n",
       "  </thead>\n",
       "  <tbody>\n",
       "    <tr>\n",
       "      <th>0</th>\n",
       "      <td>अहं प्रतिदिनं प्रभाते जागामि।</td>\n",
       "      <td>हांव रोज सकाळीं उठतां।</td>\n",
       "    </tr>\n",
       "    <tr>\n",
       "      <th>1</th>\n",
       "      <td>मम गृहं नदीतीरे अस्ति।</td>\n",
       "      <td>म्हजें घर न्हंयकडेल्या आहे।</td>\n",
       "    </tr>\n",
       "    <tr>\n",
       "      <th>2</th>\n",
       "      <td>सूर्यः पूर्वस्यां दिशि उदति।</td>\n",
       "      <td>सूर्य पूवरे कडेन उगता।</td>\n",
       "    </tr>\n",
       "    <tr>\n",
       "      <th>3</th>\n",
       "      <td>वयं संनादति क्षेत्रे क्रीडामः।</td>\n",
       "      <td>आम्ही एकठांय शेतांत खेळतांव।</td>\n",
       "    </tr>\n",
       "    <tr>\n",
       "      <th>4</th>\n",
       "      <td>माता भोजनं पचति।</td>\n",
       "      <td>आजी जेवण तयार करता।</td>\n",
       "    </tr>\n",
       "  </tbody>\n",
       "</table>\n",
       "</div>"
      ],
      "text/plain": [
       "                             sans_sent                               kon_sent\n",
       "0   अहं प्रतिदिनं प्रभाते जागामि।        हांव रोज सकाळीं उठतां।              \n",
       "1   मम गृहं नदीतीरे अस्ति।               म्हजें घर न्हंयकडेल्या आहे।         \n",
       "2   सूर्यः पूर्वस्यां दिशि उदति।          सूर्य पूवरे कडेन उगता।             \n",
       "3    वयं संनादति क्षेत्रे क्रीडामः।      आम्ही एकठांय शेतांत खेळतांव।        \n",
       "4    माता भोजनं पचति।                      आजी जेवण तयार करता।               "
      ]
     },
     "execution_count": 13,
     "metadata": {},
     "output_type": "execute_result"
    }
   ],
   "source": [
    "df.head()"
   ]
  },
  {
   "cell_type": "code",
   "execution_count": 14,
   "metadata": {},
   "outputs": [],
   "source": [
    "def add_token(x):\n",
    "    return \"<kn> \"+x\n",
    "\n",
    "def add_start_end(x):\n",
    "    return f\"[start] {x} [end]\""
   ]
  },
  {
   "cell_type": "code",
   "execution_count": 15,
   "metadata": {},
   "outputs": [],
   "source": [
    "df[\"sans_sent\"] = df[\"sans_sent\"].apply(add_token)\n",
    "df[\"kon_sent\"] = df[\"kon_sent\"].apply(add_start_end)"
   ]
  },
  {
   "cell_type": "code",
   "execution_count": 16,
   "metadata": {},
   "outputs": [
    {
     "data": {
      "text/html": [
       "<div>\n",
       "<style scoped>\n",
       "    .dataframe tbody tr th:only-of-type {\n",
       "        vertical-align: middle;\n",
       "    }\n",
       "\n",
       "    .dataframe tbody tr th {\n",
       "        vertical-align: top;\n",
       "    }\n",
       "\n",
       "    .dataframe thead th {\n",
       "        text-align: right;\n",
       "    }\n",
       "</style>\n",
       "<table border=\"1\" class=\"dataframe\">\n",
       "  <thead>\n",
       "    <tr style=\"text-align: right;\">\n",
       "      <th></th>\n",
       "      <th>sans_sent</th>\n",
       "      <th>kon_sent</th>\n",
       "    </tr>\n",
       "  </thead>\n",
       "  <tbody>\n",
       "    <tr>\n",
       "      <th>0</th>\n",
       "      <td>&lt;kn&gt;  अहं प्रतिदिनं प्रभाते जागामि।</td>\n",
       "      <td>[start]  हांव रोज सकाळीं उठतां।               ...</td>\n",
       "    </tr>\n",
       "    <tr>\n",
       "      <th>1</th>\n",
       "      <td>&lt;kn&gt;  मम गृहं नदीतीरे अस्ति।</td>\n",
       "      <td>[start]  म्हजें घर न्हंयकडेल्या आहे।          ...</td>\n",
       "    </tr>\n",
       "    <tr>\n",
       "      <th>2</th>\n",
       "      <td>&lt;kn&gt;  सूर्यः पूर्वस्यां दिशि उदति।</td>\n",
       "      <td>[start]  सूर्य पूवरे कडेन उगता।              [...</td>\n",
       "    </tr>\n",
       "    <tr>\n",
       "      <th>3</th>\n",
       "      <td>&lt;kn&gt;  वयं संनादति क्षेत्रे क्रीडामः।</td>\n",
       "      <td>[start]  आम्ही एकठांय शेतांत खेळतांव।         ...</td>\n",
       "    </tr>\n",
       "    <tr>\n",
       "      <th>4</th>\n",
       "      <td>&lt;kn&gt;  माता भोजनं पचति।</td>\n",
       "      <td>[start]  आजी जेवण तयार करता।                [end]</td>\n",
       "    </tr>\n",
       "  </tbody>\n",
       "</table>\n",
       "</div>"
      ],
      "text/plain": [
       "                                  sans_sent  \\\n",
       "0  <kn>  अहं प्रतिदिनं प्रभाते जागामि।        \n",
       "1  <kn>  मम गृहं नदीतीरे अस्ति।               \n",
       "2  <kn>  सूर्यः पूर्वस्यां दिशि उदति।         \n",
       "3   <kn>  वयं संनादति क्षेत्रे क्रीडामः।      \n",
       "4   <kn>  माता भोजनं पचति।                    \n",
       "\n",
       "                                            kon_sent  \n",
       "0  [start]  हांव रोज सकाळीं उठतां।               ...  \n",
       "1  [start]  म्हजें घर न्हंयकडेल्या आहे।          ...  \n",
       "2  [start]  सूर्य पूवरे कडेन उगता।              [...  \n",
       "3  [start]  आम्ही एकठांय शेतांत खेळतांव।         ...  \n",
       "4  [start]  आजी जेवण तयार करता।                [end]  "
      ]
     },
     "execution_count": 16,
     "metadata": {},
     "output_type": "execute_result"
    }
   ],
   "source": [
    "df.head()"
   ]
  },
  {
   "cell_type": "code",
   "execution_count": 20,
   "metadata": {},
   "outputs": [],
   "source": [
    "special_tokens = [\"[start]\", \"[end]\", \"[PAD]\", \"[UNK]\",\"<kn2>\"]"
   ]
  },
  {
   "cell_type": "code",
   "execution_count": 17,
   "metadata": {},
   "outputs": [
    {
     "data": {
      "text/plain": [
       "21499"
      ]
     },
     "execution_count": 17,
     "metadata": {},
     "output_type": "execute_result"
    }
   ],
   "source": [
    "file = open(\"./data/sankrit_2.txt\", \"w\")\n",
    "\n",
    "file.write(\"\\n\".join(df[\"sans_sent\"]))"
   ]
  },
  {
   "cell_type": "code",
   "execution_count": 18,
   "metadata": {},
   "outputs": [
    {
     "data": {
      "text/plain": [
       "26250"
      ]
     },
     "execution_count": 18,
     "metadata": {},
     "output_type": "execute_result"
    }
   ],
   "source": [
    "file = open(\"./data/kon.txt\", \"w\")\n",
    "\n",
    "file.write(\"\\n\".join(df[\"kon_sent\"]))"
   ]
  },
  {
   "cell_type": "code",
   "execution_count": 22,
   "metadata": {},
   "outputs": [
    {
     "name": "stderr",
     "output_type": "stream",
     "text": [
      "sentencepiece_trainer.cc(78) LOG(INFO) Starts training with : \n",
      "trainer_spec {\n",
      "  input: ./data/sankrit_2.txt\n",
      "  input_format: \n",
      "  model_prefix: ./model/sanskrit_tokenizer_2\n",
      "  model_type: BPE\n",
      "  vocab_size: 1000\n",
      "  self_test_sample_size: 0\n",
      "  character_coverage: 1\n",
      "  input_sentence_size: 0\n",
      "  shuffle_input_sentence: 1\n",
      "  seed_sentencepiece_size: 1000000\n",
      "  shrinking_factor: 0.75\n",
      "  max_sentence_length: 4192\n",
      "  num_threads: 16\n",
      "  num_sub_iterations: 2\n",
      "  max_sentencepiece_length: 16\n",
      "  split_by_unicode_script: 1\n",
      "  split_by_number: 1\n",
      "  split_by_whitespace: 1\n",
      "  split_digits: 0\n",
      "  pretokenization_delimiter: \n",
      "  treat_whitespace_as_suffix: 0\n",
      "  allow_whitespace_only_pieces: 0\n",
      "  user_defined_symbols: [start]\n",
      "  user_defined_symbols: [end]\n",
      "  user_defined_symbols: [PAD]\n",
      "  user_defined_symbols: [UNK]\n",
      "  user_defined_symbols: <kn2>\n",
      "  required_chars: \n",
      "  byte_fallback: 0\n",
      "  vocabulary_output_piece_score: 1\n",
      "  train_extremely_large_corpus: 0\n",
      "  seed_sentencepieces_file: \n",
      "  hard_vocab_limit: 1\n",
      "  use_all_vocab: 0\n",
      "  unk_id: 0\n",
      "  bos_id: 1\n",
      "  eos_id: 2\n",
      "  pad_id: -1\n",
      "  unk_piece: <unk>\n",
      "  bos_piece: <s>\n",
      "  eos_piece: </s>\n",
      "  pad_piece: <pad>\n",
      "  unk_surface:  ⁇ \n",
      "  enable_differential_privacy: 0\n",
      "  differential_privacy_noise_level: 0\n",
      "  differential_privacy_clipping_threshold: 0\n",
      "}\n",
      "normalizer_spec {\n",
      "  name: nmt_nfkc\n",
      "  add_dummy_prefix: 1\n",
      "  remove_extra_whitespaces: 1\n",
      "  escape_whitespaces: 1\n",
      "  normalization_rule_tsv: \n",
      "}\n",
      "denormalizer_spec {}\n",
      "trainer_interface.cc(353) LOG(INFO) SentenceIterator is not specified. Using MultiFileSentenceIterator.\n",
      "trainer_interface.cc(185) LOG(INFO) Loading corpus: ./data/sankrit_2.txt\n",
      "trainer_interface.cc(409) LOG(INFO) Loaded all 496 sentences\n",
      "trainer_interface.cc(425) LOG(INFO) Adding meta_piece: <unk>\n",
      "trainer_interface.cc(425) LOG(INFO) Adding meta_piece: <s>\n",
      "trainer_interface.cc(425) LOG(INFO) Adding meta_piece: </s>\n",
      "trainer_interface.cc(425) LOG(INFO) Adding meta_piece: [start]\n",
      "trainer_interface.cc(425) LOG(INFO) Adding meta_piece: [end]\n",
      "trainer_interface.cc(425) LOG(INFO) Adding meta_piece: [PAD]\n",
      "trainer_interface.cc(425) LOG(INFO) Adding meta_piece: [UNK]\n",
      "trainer_interface.cc(425) LOG(INFO) Adding meta_piece: <kn2>\n",
      "trainer_interface.cc(430) LOG(INFO) Normalizing sentences...\n",
      "trainer_interface.cc(539) LOG(INFO) all chars count=17277\n",
      "trainer_interface.cc(560) LOG(INFO) Alphabet size=52\n",
      "trainer_interface.cc(561) LOG(INFO) Final character coverage=1\n",
      "trainer_interface.cc(592) LOG(INFO) Done! preprocessed 496 sentences.\n",
      "trainer_interface.cc(598) LOG(INFO) Tokenizing input sentences with whitespace: 496\n",
      "trainer_interface.cc(609) LOG(INFO) Done! 162\n",
      "bpe_model_trainer.cc(159) LOG(INFO) Updating active symbols. max_freq=869 min_freq=1\n",
      "bpe_model_trainer.cc(268) LOG(INFO) Added: freq=120 size=20 all=450 active=398 piece=▁अ\n",
      "bpe_model_trainer.cc(268) LOG(INFO) Added: freq=50 size=40 all=551 active=499 piece=्वं\n",
      "bpe_model_trainer.cc(268) LOG(INFO) Added: freq=40 size=60 all=590 active=538 piece=▁चन्द\n",
      "bpe_model_trainer.cc(268) LOG(INFO) Added: freq=29 size=80 all=621 active=569 piece=▁प्रभाते\n",
      "bpe_model_trainer.cc(268) LOG(INFO) Added: freq=23 size=100 all=655 active=603 piece=▁पिब\n",
      "bpe_model_trainer.cc(159) LOG(INFO) Updating active symbols. max_freq=22 min_freq=0\n",
      "bpe_model_trainer.cc(268) LOG(INFO) Added: freq=17 size=120 all=670 active=618 piece=▁नक्ष\n",
      "bpe_model_trainer.cc(268) LOG(INFO) Added: freq=15 size=140 all=675 active=623 piece=गि\n",
      "bpe_model_trainer.cc(268) LOG(INFO) Added: freq=14 size=160 all=678 active=626 piece=▁पश्यामि\n",
      "bpe_model_trainer.cc(268) LOG(INFO) Added: freq=11 size=180 all=682 active=630 piece=▁पठति\n",
      "bpe_model_trainer.cc(268) LOG(INFO) Added: freq=9 size=200 all=687 active=635 piece=▁वहन्ति\n",
      "bpe_model_trainer.cc(159) LOG(INFO) Updating active symbols. max_freq=9 min_freq=0\n",
      "bpe_model_trainer.cc(268) LOG(INFO) Added: freq=8 size=220 all=675 active=623 piece=▁क्रीडामः\n",
      "bpe_model_trainer.cc(268) LOG(INFO) Added: freq=5 size=240 all=681 active=629 piece=नु\n",
      "bpe_model_trainer.cc(268) LOG(INFO) Added: freq=5 size=260 all=676 active=624 piece=▁अनुभवामि\n",
      "bpe_model_trainer.cc(268) LOG(INFO) Added: freq=4 size=280 all=674 active=622 piece=▁पुष्पं\n",
      "bpe_model_trainer.cc(268) LOG(INFO) Added: freq=3 size=300 all=669 active=617 piece=▁कंबलं\n",
      "bpe_model_trainer.cc(159) LOG(INFO) Updating active symbols. max_freq=3 min_freq=0\n",
      "bpe_model_trainer.cc(268) LOG(INFO) Added: freq=2 size=320 all=664 active=612 piece=▁छ\n",
      "bpe_model_trainer.cc(268) LOG(INFO) Added: freq=2 size=340 all=664 active=612 piece=तिदिनं\n",
      "bpe_model_trainer.cc(268) LOG(INFO) Added: freq=2 size=360 all=647 active=595 piece=▁पर्वतस्य\n",
      "bpe_model_trainer.cc(268) LOG(INFO) Added: freq=1 size=380 all=648 active=596 piece=पविश\n",
      "bpe_model_trainer.cc(268) LOG(INFO) Added: freq=1 size=400 all=638 active=586 piece=▁नृत्यसि\n",
      "bpe_model_trainer.cc(159) LOG(INFO) Updating active symbols. max_freq=1 min_freq=0\n",
      "bpe_model_trainer.cc(268) LOG(INFO) Added: freq=0 size=420 all=618 active=566 piece=कि\n",
      "bpe_model_trainer.cc(268) LOG(INFO) Added: freq=0 size=440 all=598 active=546 piece=जन\n",
      "bpe_model_trainer.cc(268) LOG(INFO) Added: freq=0 size=460 all=578 active=526 piece=ती\n",
      "bpe_model_trainer.cc(268) LOG(INFO) Added: freq=0 size=480 all=558 active=506 piece=पन\n",
      "bpe_model_trainer.cc(268) LOG(INFO) Added: freq=0 size=500 all=538 active=486 piece=भ्\n",
      "bpe_model_trainer.cc(159) LOG(INFO) Updating active symbols. max_freq=0 min_freq=0\n",
      "bpe_model_trainer.cc(268) LOG(INFO) Added: freq=0 size=520 all=518 active=466 piece=रा\n",
      "bpe_model_trainer.cc(268) LOG(INFO) Added: freq=0 size=540 all=498 active=446 piece=शं\n",
      "bpe_model_trainer.cc(268) LOG(INFO) Added: freq=0 size=560 all=478 active=426 piece=ाद\n",
      "bpe_model_trainer.cc(268) LOG(INFO) Added: freq=0 size=580 all=458 active=406 piece=ुष\n",
      "bpe_model_trainer.cc(268) LOG(INFO) Added: freq=0 size=600 all=438 active=386 piece=उच्\n",
      "bpe_model_trainer.cc(159) LOG(INFO) Updating active symbols. max_freq=0 min_freq=0\n",
      "bpe_model_trainer.cc(268) LOG(INFO) Added: freq=0 size=620 all=418 active=366 piece=ठसि\n",
      "bpe_model_trainer.cc(268) LOG(INFO) Added: freq=0 size=640 all=398 active=346 piece=दीत\n",
      "bpe_model_trainer.cc(268) LOG(INFO) Added: freq=0 size=660 all=378 active=326 piece=भति\n",
      "bpe_model_trainer.cc(268) LOG(INFO) Added: freq=0 size=680 all=358 active=306 piece=षति\n",
      "bpe_model_trainer.cc(268) LOG(INFO) Added: freq=0 size=700 all=338 active=286 piece=ृणु\n",
      "bpe_model_trainer.cc(159) LOG(INFO) Updating active symbols. max_freq=0 min_freq=0\n",
      "bpe_model_trainer.cc(268) LOG(INFO) Added: freq=0 size=720 all=318 active=266 piece=्रे\n",
      "bpe_model_trainer.cc(268) LOG(INFO) Added: freq=0 size=740 all=298 active=246 piece=▁ता\n",
      "bpe_model_trainer.cc(268) LOG(INFO) Added: freq=0 size=760 all=278 active=226 piece=▁शो\n",
      "bpe_model_trainer.cc(268) LOG(INFO) Added: freq=0 size=780 all=258 active=206 piece=त्रस\n",
      "bpe_model_trainer.cc(268) LOG(INFO) Added: freq=0 size=800 all=238 active=186 piece=वामः\n",
      "bpe_model_trainer.cc(159) LOG(INFO) Updating active symbols. max_freq=0 min_freq=0\n",
      "bpe_model_trainer.cc(268) LOG(INFO) Added: freq=0 size=820 all=218 active=166 piece=ीतका\n",
      "bpe_model_trainer.cc(268) LOG(INFO) Added: freq=0 size=840 all=198 active=146 piece=्याम\n",
      "bpe_model_trainer.cc(268) LOG(INFO) Added: freq=0 size=860 all=178 active=126 piece=▁छाय\n",
      "bpe_model_trainer.cc(268) LOG(INFO) Added: freq=0 size=880 all=158 active=106 piece=▁श्र\n",
      "bpe_model_trainer.cc(268) LOG(INFO) Added: freq=0 size=900 all=138 active=86 piece=ष्ठतः\n",
      "bpe_model_trainer.cc(159) LOG(INFO) Updating active symbols. max_freq=0 min_freq=0\n",
      "bpe_model_trainer.cc(268) LOG(INFO) Added: freq=0 size=920 all=118 active=66 piece=्राता\n",
      "bpe_model_trainer.cc(268) LOG(INFO) Added: freq=0 size=940 all=98 active=46 piece=ंनादति\n",
      "trainer_interface.cc(687) LOG(INFO) Saving model: ./model/sanskrit_tokenizer_2.model\n",
      "trainer_interface.cc(699) LOG(INFO) Saving vocabs: ./model/sanskrit_tokenizer_2.vocab\n"
     ]
    }
   ],
   "source": [
    "import sentencepiece as spm\n",
    "\n",
    "spm.SentencePieceTrainer.train(\n",
    "    input=\"./data/sankrit_2.txt\",\n",
    "    model_prefix=\"./model/sanskrit_tokenizer_2\",\n",
    "    vocab_size=1000,\n",
    "    model_type=\"bpe\",  # Can be 'unigram', 'word', or 'char'\n",
    "    character_coverage=1.0,  # Sanskrit has a small alphabet, so full coverage\n",
    "    user_defined_symbols=special_tokens,\n",
    "    # max_sentence_length=30\n",
    ")"
   ]
  },
  {
   "cell_type": "code",
   "execution_count": 24,
   "metadata": {},
   "outputs": [
    {
     "name": "stderr",
     "output_type": "stream",
     "text": [
      "sentencepiece_trainer.cc(78) LOG(INFO) Starts training with : \n",
      "trainer_spec {\n",
      "  input: ./data/kon.txt\n",
      "  input_format: \n",
      "  model_prefix: ./model/konkani_tokenizer\n",
      "  model_type: BPE\n",
      "  vocab_size: 854\n",
      "  self_test_sample_size: 0\n",
      "  character_coverage: 1\n",
      "  input_sentence_size: 0\n",
      "  shuffle_input_sentence: 1\n",
      "  seed_sentencepiece_size: 1000000\n",
      "  shrinking_factor: 0.75\n",
      "  max_sentence_length: 4192\n",
      "  num_threads: 16\n",
      "  num_sub_iterations: 2\n",
      "  max_sentencepiece_length: 16\n",
      "  split_by_unicode_script: 1\n",
      "  split_by_number: 1\n",
      "  split_by_whitespace: 1\n",
      "  split_digits: 0\n",
      "  pretokenization_delimiter: \n",
      "  treat_whitespace_as_suffix: 0\n",
      "  allow_whitespace_only_pieces: 0\n",
      "  user_defined_symbols: [start]\n",
      "  user_defined_symbols: [end]\n",
      "  user_defined_symbols: [PAD]\n",
      "  user_defined_symbols: [UNK]\n",
      "  user_defined_symbols: <kn2>\n",
      "  required_chars: \n",
      "  byte_fallback: 0\n",
      "  vocabulary_output_piece_score: 1\n",
      "  train_extremely_large_corpus: 0\n",
      "  seed_sentencepieces_file: \n",
      "  hard_vocab_limit: 1\n",
      "  use_all_vocab: 0\n",
      "  unk_id: 0\n",
      "  bos_id: 1\n",
      "  eos_id: 2\n",
      "  pad_id: -1\n",
      "  unk_piece: <unk>\n",
      "  bos_piece: <s>\n",
      "  eos_piece: </s>\n",
      "  pad_piece: <pad>\n",
      "  unk_surface:  ⁇ \n",
      "  enable_differential_privacy: 0\n",
      "  differential_privacy_noise_level: 0\n",
      "  differential_privacy_clipping_threshold: 0\n",
      "}\n",
      "normalizer_spec {\n",
      "  name: nmt_nfkc\n",
      "  add_dummy_prefix: 1\n",
      "  remove_extra_whitespaces: 1\n",
      "  escape_whitespaces: 1\n",
      "  normalization_rule_tsv: \n",
      "}\n",
      "denormalizer_spec {}\n",
      "trainer_interface.cc(353) LOG(INFO) SentenceIterator is not specified. Using MultiFileSentenceIterator.\n",
      "trainer_interface.cc(185) LOG(INFO) Loading corpus: ./data/kon.txt\n",
      "trainer_interface.cc(409) LOG(INFO) Loaded all 496 sentences\n",
      "trainer_interface.cc(425) LOG(INFO) Adding meta_piece: <unk>\n",
      "trainer_interface.cc(425) LOG(INFO) Adding meta_piece: <s>\n",
      "trainer_interface.cc(425) LOG(INFO) Adding meta_piece: </s>\n",
      "trainer_interface.cc(425) LOG(INFO) Adding meta_piece: [start]\n",
      "trainer_interface.cc(425) LOG(INFO) Adding meta_piece: [end]\n",
      "trainer_interface.cc(425) LOG(INFO) Adding meta_piece: [PAD]\n",
      "trainer_interface.cc(425) LOG(INFO) Adding meta_piece: [UNK]\n",
      "trainer_interface.cc(425) LOG(INFO) Adding meta_piece: <kn2>\n",
      "trainer_interface.cc(430) LOG(INFO) Normalizing sentences...\n",
      "trainer_interface.cc(539) LOG(INFO) all chars count=16706\n",
      "trainer_interface.cc(560) LOG(INFO) Alphabet size=48\n",
      "trainer_interface.cc(561) LOG(INFO) Final character coverage=1\n",
      "trainer_interface.cc(592) LOG(INFO) Done! preprocessed 496 sentences.\n",
      "trainer_interface.cc(598) LOG(INFO) Tokenizing input sentences with whitespace: 496\n",
      "trainer_interface.cc(609) LOG(INFO) Done! 154\n",
      "bpe_model_trainer.cc(159) LOG(INFO) Updating active symbols. max_freq=975 min_freq=1\n",
      "bpe_model_trainer.cc(268) LOG(INFO) Added: freq=126 size=20 all=405 active=356 piece=▁हां\n",
      "bpe_model_trainer.cc(268) LOG(INFO) Added: freq=54 size=40 all=455 active=406 piece=का\n",
      "bpe_model_trainer.cc(268) LOG(INFO) Added: freq=43 size=60 all=484 active=435 piece=▁दोस्त\n",
      "bpe_model_trainer.cc(268) LOG(INFO) Added: freq=29 size=80 all=495 active=446 piece=काळीं\n",
      "bpe_model_trainer.cc(268) LOG(INFO) Added: freq=23 size=100 all=514 active=465 piece=दक\n",
      "bpe_model_trainer.cc(159) LOG(INFO) Updating active symbols. max_freq=23 min_freq=0\n",
      "bpe_model_trainer.cc(268) LOG(INFO) Added: freq=19 size=120 all=522 active=473 piece=▁वाचता\n",
      "bpe_model_trainer.cc(268) LOG(INFO) Added: freq=16 size=140 all=527 active=478 piece=▁वाऱ\n",
      "bpe_model_trainer.cc(268) LOG(INFO) Added: freq=13 size=160 all=531 active=482 piece=▁घरांत\n",
      "bpe_model_trainer.cc(268) LOG(INFO) Added: freq=10 size=180 all=535 active=486 piece=यार\n",
      "bpe_model_trainer.cc(268) LOG(INFO) Added: freq=9 size=200 all=532 active=483 piece=▁रानांत\n",
      "bpe_model_trainer.cc(159) LOG(INFO) Updating active symbols. max_freq=9 min_freq=0\n",
      "bpe_model_trainer.cc(268) LOG(INFO) Added: freq=7 size=220 all=532 active=483 piece=▁खातां\n",
      "bpe_model_trainer.cc(268) LOG(INFO) Added: freq=5 size=240 all=538 active=489 piece=जी\n",
      "bpe_model_trainer.cc(268) LOG(INFO) Added: freq=5 size=260 all=534 active=485 piece=▁वतांव\n",
      "bpe_model_trainer.cc(268) LOG(INFO) Added: freq=4 size=280 all=526 active=477 piece=▁खातांव\n",
      "bpe_model_trainer.cc(268) LOG(INFO) Added: freq=2 size=300 all=513 active=464 piece=गी\n",
      "bpe_model_trainer.cc(159) LOG(INFO) Updating active symbols. max_freq=2 min_freq=0\n",
      "bpe_model_trainer.cc(268) LOG(INFO) Added: freq=2 size=320 all=512 active=463 piece=▁कडेन\n",
      "bpe_model_trainer.cc(268) LOG(INFO) Added: freq=1 size=340 all=496 active=447 piece=ाल\n",
      "bpe_model_trainer.cc(268) LOG(INFO) Added: freq=1 size=360 all=488 active=439 piece=▁पर्वतां\n",
      "bpe_model_trainer.cc(268) LOG(INFO) Added: freq=0 size=380 all=468 active=419 piece=कड\n",
      "bpe_model_trainer.cc(268) LOG(INFO) Added: freq=0 size=400 all=448 active=399 piece=चि\n",
      "bpe_model_trainer.cc(159) LOG(INFO) Updating active symbols. max_freq=0 min_freq=0\n",
      "bpe_model_trainer.cc(268) LOG(INFO) Added: freq=0 size=420 all=428 active=379 piece=त्\n",
      "bpe_model_trainer.cc(268) LOG(INFO) Added: freq=0 size=440 all=408 active=359 piece=फळ\n",
      "bpe_model_trainer.cc(268) LOG(INFO) Added: freq=0 size=460 all=388 active=339 piece=रो\n",
      "bpe_model_trainer.cc(268) LOG(INFO) Added: freq=0 size=480 all=368 active=319 piece=शे\n",
      "bpe_model_trainer.cc(268) LOG(INFO) Added: freq=0 size=500 all=348 active=299 piece=िप\n",
      "bpe_model_trainer.cc(159) LOG(INFO) Updating active symbols. max_freq=0 min_freq=0\n",
      "bpe_model_trainer.cc(268) LOG(INFO) Added: freq=0 size=520 all=328 active=279 piece=▁अ\n",
      "bpe_model_trainer.cc(268) LOG(INFO) Added: freq=0 size=540 all=308 active=259 piece=तात\n",
      "bpe_model_trainer.cc(268) LOG(INFO) Added: freq=0 size=560 all=288 active=239 piece=ऱ्य\n",
      "bpe_model_trainer.cc(268) LOG(INFO) Added: freq=0 size=580 all=268 active=219 piece=ागस\n",
      "bpe_model_trainer.cc(268) LOG(INFO) Added: freq=0 size=600 all=248 active=199 piece=▁आह\n",
      "bpe_model_trainer.cc(159) LOG(INFO) Updating active symbols. max_freq=0 min_freq=0\n",
      "bpe_model_trainer.cc(268) LOG(INFO) Added: freq=0 size=620 all=228 active=179 piece=▁प्\n",
      "bpe_model_trainer.cc(268) LOG(INFO) Added: freq=0 size=640 all=208 active=159 piece=ंडीं\n",
      "bpe_model_trainer.cc(268) LOG(INFO) Added: freq=0 size=660 all=188 active=139 piece=लतां\n",
      "bpe_model_trainer.cc(268) LOG(INFO) Added: freq=0 size=680 all=168 active=119 piece=ुंदर\n",
      "bpe_model_trainer.cc(268) LOG(INFO) Added: freq=0 size=700 all=148 active=99 piece=▁न्ह\n",
      "bpe_model_trainer.cc(159) LOG(INFO) Updating active symbols. max_freq=0 min_freq=0\n",
      "bpe_model_trainer.cc(268) LOG(INFO) Added: freq=0 size=720 all=128 active=79 piece=ंयांत\n",
      "bpe_model_trainer.cc(268) LOG(INFO) Added: freq=0 size=740 all=108 active=59 piece=स्नान\n",
      "bpe_model_trainer.cc(268) LOG(INFO) Added: freq=0 size=760 all=88 active=39 piece=▁पुस्\n",
      "bpe_model_trainer.cc(268) LOG(INFO) Added: freq=0 size=780 all=68 active=19 piece=▁थंडीं\n",
      "trainer_interface.cc(687) LOG(INFO) Saving model: ./model/konkani_tokenizer.model\n",
      "trainer_interface.cc(699) LOG(INFO) Saving vocabs: ./model/konkani_tokenizer.vocab\n"
     ]
    }
   ],
   "source": [
    "import sentencepiece as spm\n",
    "\n",
    "spm.SentencePieceTrainer.train(\n",
    "    input=\"./data/kon.txt\",\n",
    "    model_prefix=\"./model/konkani_tokenizer\",\n",
    "    vocab_size=854,\n",
    "    model_type=\"bpe\",  # Can be 'unigram', 'word', or 'char'\n",
    "    character_coverage=1.0,  # Sanskrit has a small alphabet, so full coverage\n",
    "    user_defined_symbols=special_tokens,\n",
    "    # max_sentence_length=30\n",
    ")"
   ]
  },
  {
   "cell_type": "code",
   "execution_count": null,
   "metadata": {},
   "outputs": [
    {
     "name": "stdout",
     "output_type": "stream",
     "text": [
      "[19922, 7, 1594, 7310, 19940, 127, 63, 773, 18520, 98, 157, 123, 907, 8677, 107, 19941]\n"
     ]
    }
   ],
   "source": [
    "sp = spm.SentencePieceProcessor()\n",
    "sp.load(\"./model/sanskrit_tokenizer.model\")\n",
    "\n",
    "sentence = \"<hi2> कर्मण्येवाधिकारस्ते मा फलेषु कदाचन।\"\n",
    "tokens = sp.encode(sentence, out_type=int)\n",
    "\n",
    "print(tokens)  # Tokenized Sanskrit sentence"
   ]
  },
  {
   "cell_type": "code",
   "execution_count": 38,
   "metadata": {},
   "outputs": [],
   "source": [
    "def hello(x):\n",
    "    print(x,\"this is x\")\n",
    "    return len(x)"
   ]
  },
  {
   "cell_type": "code",
   "execution_count": 40,
   "metadata": {},
   "outputs": [],
   "source": [
    "import numpy as np\n",
    "hehe = sp.tokenize([*df['sa'][:]])\n",
    "# len(hehe)\n",
    "a = max(hehe,key=lambda x:len(x))"
   ]
  },
  {
   "cell_type": "code",
   "execution_count": 43,
   "metadata": {},
   "outputs": [
    {
     "data": {
      "text/plain": [
       "169"
      ]
     },
     "execution_count": 43,
     "metadata": {},
     "output_type": "execute_result"
    }
   ],
   "source": [
    "len(a)"
   ]
  },
  {
   "cell_type": "code",
   "execution_count": 49,
   "metadata": {},
   "outputs": [
    {
     "data": {
      "text/plain": [
       "'[PAD]'"
      ]
     },
     "execution_count": 49,
     "metadata": {},
     "output_type": "execute_result"
    }
   ],
   "source": [
    "sp.decode_ids(5)"
   ]
  },
  {
   "cell_type": "code",
   "execution_count": 151,
   "metadata": {},
   "outputs": [
    {
     "data": {
      "text/plain": [
       "'<hi2> कर्मण्येवाधिकारस्ते मा फलेषु कदाचन।'"
      ]
     },
     "execution_count": 151,
     "metadata": {},
     "output_type": "execute_result"
    }
   ],
   "source": [
    "sp.decode(\n",
    "    [\n",
    "        19922,\n",
    "        7,\n",
    "        1594,\n",
    "        7310,\n",
    "        19940,\n",
    "        127,\n",
    "        63,\n",
    "        773,\n",
    "        18520,\n",
    "        98,\n",
    "        157,\n",
    "        123,\n",
    "        907,\n",
    "        8677,\n",
    "        107,\n",
    "        19941,\n",
    "    ]\n",
    ")"
   ]
  },
  {
   "cell_type": "code",
   "execution_count": 50,
   "metadata": {},
   "outputs": [],
   "source": [
    "spm.SentencePieceTrainer.train(\n",
    "    input=\"./data/hindi.txt\",\n",
    "    model_prefix=\"./model/hindi_tokenizer\",\n",
    "    vocab_size=20000,\n",
    "    model_type=\"bpe\",  # Can be 'unigram', 'word', or 'char'\n",
    "    character_coverage=1.0,  # Sanskrit has a small alphabet, so full coverage\n",
    "    user_defined_symbols=special_tokens\n",
    ")"
   ]
  },
  {
   "cell_type": "code",
   "execution_count": 51,
   "metadata": {},
   "outputs": [
    {
     "data": {
      "text/plain": [
       "'[start] तब यीशु शैतान की परीक्षा के लिए जंगल में आत्मा की अगुवाई कर रहा था। [end]'"
      ]
     },
     "execution_count": 51,
     "metadata": {},
     "output_type": "execute_result"
    }
   ],
   "source": [
    "df[\"hi\"][90]"
   ]
  },
  {
   "cell_type": "code",
   "execution_count": 157,
   "metadata": {},
   "outputs": [
    {
     "name": "stdout",
     "output_type": "stream",
     "text": [
      "[19877, 3, 205, 1971, 6742, 48, 4010, 20, 146, 1613, 41, 2392, 48, 10199, 42, 388, 246, 19906, 19877, 4]\n"
     ]
    }
   ],
   "source": [
    "sp = spm.SentencePieceProcessor()\n",
    "sp.load(\"./model/hindi_tokenizer.model\")\n",
    "\n",
    "sentence = \"<hi2> कर्मण्येवाधिकारस्ते मा फलेषु कदाचन।\"\n",
    "tokens = sp.encode(df[\"hi\"][90], out_type=int)\n",
    "\n",
    "print(tokens)"
   ]
  },
  {
   "cell_type": "code",
   "execution_count": 158,
   "metadata": {},
   "outputs": [
    {
     "data": {
      "text/plain": [
       "'[start] तब यीशु शैतान की परीक्षा के लिए जंगल में आत्मा की अगुवाई कर रहा था। [end]'"
      ]
     },
     "execution_count": 158,
     "metadata": {},
     "output_type": "execute_result"
    }
   ],
   "source": [
    "sp.decode(\n",
    "    [\n",
    "        19877,\n",
    "        3,\n",
    "        205,\n",
    "        1971,\n",
    "        6742,\n",
    "        48,\n",
    "        4010,\n",
    "        20,\n",
    "        146,\n",
    "        1613,\n",
    "        41,\n",
    "        2392,\n",
    "        48,\n",
    "        10199,\n",
    "        42,\n",
    "        388,\n",
    "        246,\n",
    "        19906,\n",
    "        19877,\n",
    "        4,\n",
    "    ]\n",
    ")"
   ]
  },
  {
   "cell_type": "code",
   "execution_count": 161,
   "metadata": {},
   "outputs": [
    {
     "data": {
      "text/plain": [
       "'[start]'"
      ]
     },
     "execution_count": 161,
     "metadata": {},
     "output_type": "execute_result"
    }
   ],
   "source": [
    "sp.decode_ids(3)"
   ]
  }
 ],
 "metadata": {
  "kernelspec": {
   "display_name": ".venv",
   "language": "python",
   "name": "python3"
  },
  "language_info": {
   "codemirror_mode": {
    "name": "ipython",
    "version": 3
   },
   "file_extension": ".py",
   "mimetype": "text/x-python",
   "name": "python",
   "nbconvert_exporter": "python",
   "pygments_lexer": "ipython3",
   "version": "3.11.2"
  }
 },
 "nbformat": 4,
 "nbformat_minor": 2
}
